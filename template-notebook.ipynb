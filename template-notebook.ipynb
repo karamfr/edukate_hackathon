{
 "cells": [
  {
   "cell_type": "markdown",
   "metadata": {
    "slideshow": {
     "slide_type": "slide"
    }
   },
   "source": [
    "# Template notebook"
   ]
  },
  {
   "cell_type": "markdown",
   "metadata": {},
   "source": [
    "git repo: https://github.com/karamfr/edukate_hackathon"
   ]
  },
  {
   "cell_type": "markdown",
   "metadata": {
    "slideshow": {
     "slide_type": "slide"
    }
   },
   "source": [
    "It's good to start with an introduction, to set the scene and introduce your audience to the data, and the problem you're solving as a team.\n",
    "\n",
    "<br>\n",
    "\n",
    "## Libraries\n",
    "As always, we'll start by importing the necessary libraries."
   ]
  },
  {
   "cell_type": "code",
   "execution_count": 2,
   "metadata": {
    "slideshow": {
     "slide_type": "slide"
    }
   },
   "outputs": [],
   "source": [
    "# It's good practice to add comments to explain your code \n",
    "import numpy as np\n",
    "import pandas as pd\n",
    "import matplotlib.pyplot as plt\n",
    "import seaborn as sns"
   ]
  },
  {
   "cell_type": "markdown",
   "metadata": {},
   "source": [
    "## Functions"
   ]
  },
  {
   "cell_type": "code",
   "execution_count": 3,
   "metadata": {},
   "outputs": [],
   "source": [
    "def summarise_columns(input_df):\n",
    "    df_summary = pd.DataFrame(input_df.isnull().sum(),columns = ['null_count'])\n",
    "    df_summary['null_proportion'] = df_summary['null_count']/len(input_df)\n",
    "    df_summary['count_unique'] = input_df.nunique()\n",
    "    df_summary['data_type'] = input_df.dtypes\n",
    "    return df_summary\n",
    " \n",
    "#define a function to show different values for each column\n",
    " \n",
    "def value_counts_summary(input_df,factor_name,sort_index = False, max_levels = 1000):\n",
    "    #create \n",
    "    summary_df = pd.DataFrame(columns = ['count','proportion','cumul_proportion'])\n",
    " \n",
    "    if sort_index:\n",
    "        summary_df['count'] = input_df[factor_name].value_counts().sort_index()\n",
    "    else:\n",
    "        summary_df['count'] = input_df[factor_name].value_counts()\n",
    " \n",
    "    summary_df['proportion'] = summary_df['count']/len(input_df)\n",
    "    summary_df['cumul_proportion'] = summary_df['proportion'].cumsum()\n",
    "    summary_df.reset_index(inplace= True)\n",
    "    return summary_df[:min(max_levels,len(summary_df))]"
   ]
  },
  {
   "cell_type": "code",
   "execution_count": 109,
   "metadata": {},
   "outputs": [],
   "source": [
    "\"\"\"\n",
    "def get_data(df, train_start = '2020-03-21', test_start = '2020-03-31', test_end = '2020-04-07', source='paper'):\n",
    "    \"\"\"\n",
    "    Function to produce train-validation and test dfs\n",
    "    \"\"\"\n",
    "    df = df[df['corona_result'] != 'other']\n",
    "    \n",
    "    train_start = pd.to_datetime(train_start)\n",
    "    test_start = pd.to_datetime(test_start)\n",
    "    test_end = pd.to_datetime(test_end)\n",
    "    \n",
    "    if source == 'paper':\n",
    "        df_trainvalidation = df[df['test_date'].between('2020-03-21', '2020-03-31', 'right')]\n",
    "        df_test = df[df['test_date'].between('2020-03-31', '2020-04-07', 'right')]\n",
    "        return df_trainvalidation, df_test\n",
    "    else:\n",
    "        df_trainvalidation = df[df['test_date'].between(train_start, test_start, 'right')]\n",
    "        df_test = df[df['test_date'].between(test_start, test_end, 'right')]\n",
    "    \n",
    "    return df_trainvalidation, df_test\n",
    "\"\"\""
   ]
  },
  {
   "cell_type": "code",
   "execution_count": 110,
   "metadata": {},
   "outputs": [],
   "source": [
    "def get_data(df,source = 'paper', train_end = '2020-03-31',test_end = '2020-04-30'):#,train_start,test_start,test_end:\n",
    "    if source == 'paper':\n",
    "        df_trainvalidation = df[df['test_date'].between('2020-03-21','2020-03-31','right')]\n",
    "        df_test = df[df['test_date'].between('2020-03-31','2020-04-07','right')]\n",
    "    else:\n",
    "        df_trainvalidation = df[df['test_date'].between('2020-03-21',train_end,'right')]\n",
    "        df_test = df[df['test_date'].between(train_end,test_end,'right')]\n",
    "    return df_trainvalidation,df_test"
   ]
  },
  {
   "cell_type": "markdown",
   "metadata": {},
   "source": [
    "## Import data "
   ]
  },
  {
   "cell_type": "code",
   "execution_count": 5,
   "metadata": {},
   "outputs": [
    {
     "name": "stderr",
     "output_type": "stream",
     "text": [
      "/tmp/ipykernel_30/1990088523.py:1: DtypeWarning: Columns (7) have mixed types. Specify dtype option on import or set low_memory=False.\n",
      "  df = pd.read_csv(\"data/corona_tested_individuals_ver_006.english.csv\")\n"
     ]
    }
   ],
   "source": [
    "df = pd.read_csv(\"data/corona_tested_individuals_ver_006.english.csv\")"
   ]
  },
  {
   "cell_type": "markdown",
   "metadata": {},
   "source": [
    "## EDA"
   ]
  },
  {
   "cell_type": "code",
   "execution_count": 6,
   "metadata": {},
   "outputs": [
    {
     "data": {
      "text/plain": [
       "corona_result\n",
       "negative    0.933222\n",
       "positive    0.052821\n",
       "other       0.013957\n",
       "Name: proportion, dtype: float64"
      ]
     },
     "execution_count": 6,
     "metadata": {},
     "output_type": "execute_result"
    }
   ],
   "source": [
    "df['corona_result'].value_counts(normalize=True)"
   ]
  },
  {
   "cell_type": "code",
   "execution_count": 7,
   "metadata": {},
   "outputs": [
    {
     "data": {
      "text/plain": [
       "test_date               object\n",
       "cough                  float64\n",
       "fever                  float64\n",
       "sore_throat            float64\n",
       "shortness_of_breath    float64\n",
       "head_ache              float64\n",
       "corona_result           object\n",
       "age_60_and_above        object\n",
       "gender                  object\n",
       "test_indication         object\n",
       "dtype: object"
      ]
     },
     "execution_count": 7,
     "metadata": {},
     "output_type": "execute_result"
    }
   ],
   "source": [
    "num_rows = df.shape[0]\n",
    "num_features = df.shape[1]\n",
    "\n",
    "df.dtypes"
   ]
  },
  {
   "cell_type": "code",
   "execution_count": 8,
   "metadata": {},
   "outputs": [],
   "source": [
    "# filter data to a subset to mirror the date range\n",
    "df['test_date'] = pd.to_datetime(df['test_date'])\n"
   ]
  },
  {
   "cell_type": "code",
   "execution_count": 9,
   "metadata": {},
   "outputs": [
    {
     "data": {
      "text/html": [
       "<div>\n",
       "<style scoped>\n",
       "    .dataframe tbody tr th:only-of-type {\n",
       "        vertical-align: middle;\n",
       "    }\n",
       "\n",
       "    .dataframe tbody tr th {\n",
       "        vertical-align: top;\n",
       "    }\n",
       "\n",
       "    .dataframe thead th {\n",
       "        text-align: right;\n",
       "    }\n",
       "</style>\n",
       "<table border=\"1\" class=\"dataframe\">\n",
       "  <thead>\n",
       "    <tr style=\"text-align: right;\">\n",
       "      <th></th>\n",
       "      <th>test_date</th>\n",
       "      <th>count</th>\n",
       "      <th>proportion</th>\n",
       "      <th>cumul_proportion</th>\n",
       "    </tr>\n",
       "  </thead>\n",
       "  <tbody>\n",
       "    <tr>\n",
       "      <th>0</th>\n",
       "      <td>2020-04-01</td>\n",
       "      <td>8654</td>\n",
       "      <td>0.177068</td>\n",
       "      <td>0.177068</td>\n",
       "    </tr>\n",
       "    <tr>\n",
       "      <th>1</th>\n",
       "      <td>2020-04-02</td>\n",
       "      <td>8188</td>\n",
       "      <td>0.167533</td>\n",
       "      <td>0.344600</td>\n",
       "    </tr>\n",
       "    <tr>\n",
       "      <th>2</th>\n",
       "      <td>2020-04-03</td>\n",
       "      <td>8079</td>\n",
       "      <td>0.165303</td>\n",
       "      <td>0.509903</td>\n",
       "    </tr>\n",
       "    <tr>\n",
       "      <th>3</th>\n",
       "      <td>2020-04-04</td>\n",
       "      <td>5145</td>\n",
       "      <td>0.105271</td>\n",
       "      <td>0.615174</td>\n",
       "    </tr>\n",
       "    <tr>\n",
       "      <th>4</th>\n",
       "      <td>2020-04-05</td>\n",
       "      <td>7509</td>\n",
       "      <td>0.153640</td>\n",
       "      <td>0.768814</td>\n",
       "    </tr>\n",
       "    <tr>\n",
       "      <th>5</th>\n",
       "      <td>2020-04-06</td>\n",
       "      <td>5368</td>\n",
       "      <td>0.109833</td>\n",
       "      <td>0.878647</td>\n",
       "    </tr>\n",
       "    <tr>\n",
       "      <th>6</th>\n",
       "      <td>2020-04-07</td>\n",
       "      <td>5931</td>\n",
       "      <td>0.121353</td>\n",
       "      <td>1.000000</td>\n",
       "    </tr>\n",
       "  </tbody>\n",
       "</table>\n",
       "</div>"
      ],
      "text/plain": [
       "   test_date  count  proportion  cumul_proportion\n",
       "0 2020-04-01   8654    0.177068          0.177068\n",
       "1 2020-04-02   8188    0.167533          0.344600\n",
       "2 2020-04-03   8079    0.165303          0.509903\n",
       "3 2020-04-04   5145    0.105271          0.615174\n",
       "4 2020-04-05   7509    0.153640          0.768814\n",
       "5 2020-04-06   5368    0.109833          0.878647\n",
       "6 2020-04-07   5931    0.121353          1.000000"
      ]
     },
     "execution_count": 9,
     "metadata": {},
     "output_type": "execute_result"
    }
   ],
   "source": [
    "df_paper_train = df[df['test_date'].between('2020-03-21', '2020-03-31', 'right')]\n",
    "df_paper_test = df[df['test_date'].between('2020-03-31', '2020-04-07', 'right')]\n",
    "\n",
    "value_counts_summary(df_paper_test, 'test_date', sort_index=True)"
   ]
  },
  {
   "cell_type": "code",
   "execution_count": 10,
   "metadata": {},
   "outputs": [
    {
     "name": "stdout",
     "output_type": "stream",
     "text": [
      "Shape of train-validation date range used in paper (53843, 10)\n",
      "Shape of test date range used in paper (48874, 10)\n",
      "records in train validation quoted in paper: 51,831\n",
      "Shape of train-validation quoted in paper 47,401\n"
     ]
    }
   ],
   "source": [
    "print(f\"Shape of train-validation date range used in paper {df_paper_train.shape}\")\n",
    "print(f\"Shape of test date range used in paper {df_paper_test.shape}\")\n",
    "print(f\"records in train validation quoted in paper: 51,831\")\n",
    "print(f\"Shape of train-validation quoted in paper 47,401\")"
   ]
  },
  {
   "cell_type": "code",
   "execution_count": 11,
   "metadata": {},
   "outputs": [],
   "source": [
    "df_to_check = df[df['test_date'].between('2020-03-21', '2020-04-24', 'right')]\n",
    "\n",
    "def plot_missing_value_pct_per_feature(df):\n",
    "    num_rows = df.shape[0]\n",
    "    df_missing_values = pd.DataFrame(round(df.isna().sum() / num_rows * 100,6))\n",
    "    df_missing_values.rename(columns={0: 'pct missing'}, inplace=True)\n",
    "    df_missing_values.sort_values(by='pct missing', ascending=False, inplace=True)\n",
    "    df_missing_values.plot(kind='bar')\n",
    "    plt.title('Percent of missing values per feature')"
   ]
  },
  {
   "cell_type": "code",
   "execution_count": 12,
   "metadata": {},
   "outputs": [
    {
     "data": {
      "image/png": "[encoded data removed]",
      "text/plain": [
       "<Figure size 640x480 with 1 Axes>"
      ]
     },
     "metadata": {},
     "output_type": "display_data"
    }
   ],
   "source": [
    "plot_missing_value_pct_per_feature(df_to_check)"
   ]
  },
  {
   "cell_type": "code",
   "execution_count": 13,
   "metadata": {},
   "outputs": [
    {
     "data": {
      "image/png": "[encoded data removed]",
      "text/plain": [
       "<Figure size 640x480 with 1 Axes>"
      ]
     },
     "metadata": {},
     "output_type": "display_data"
    }
   ],
   "source": [
    "plot_missing_value_pct_per_feature(df)"
   ]
  },
  {
   "cell_type": "markdown",
   "metadata": {
    "slideshow": {
     "slide_type": "slide"
    }
   },
   "source": [
    "**Question / Task 1**\n",
    "\n",
    "Think about possible biases and limitations of this dataset. What are the sources of uncertainty?"
   ]
  },
  {
   "cell_type": "code",
   "execution_count": 14,
   "metadata": {
    "slideshow": {
     "slide_type": "slide"
    }
   },
   "outputs": [],
   "source": [
    "# Add your code here\n"
   ]
  },
  {
   "cell_type": "markdown",
   "metadata": {},
   "source": [
    "**Question / Task 2**\n",
    "\n",
    "What is the format of feature values?"
   ]
  },
  {
   "cell_type": "code",
   "execution_count": 15,
   "metadata": {},
   "outputs": [],
   "source": [
    "# get the train-validation and test sets\n",
    "df_trainvalidation, df_test = get_data(df, source='paper')\n",
    "df_combined = pd.concat([df_trainvalidation, df_test])\n"
   ]
  },
  {
   "cell_type": "code",
   "execution_count": 16,
   "metadata": {},
   "outputs": [
    {
     "data": {
      "text/plain": [
       "test_date              datetime64[ns]\n",
       "cough                         float64\n",
       "fever                         float64\n",
       "sore_throat                   float64\n",
       "shortness_of_breath           float64\n",
       "head_ache                     float64\n",
       "corona_result                  object\n",
       "age_60_and_above               object\n",
       "gender                         object\n",
       "test_indication                object\n",
       "dtype: object"
      ]
     },
     "execution_count": 16,
     "metadata": {},
     "output_type": "execute_result"
    }
   ],
   "source": [
    "df_trainvalidation.dtypes"
   ]
  },
  {
   "cell_type": "markdown",
   "metadata": {},
   "source": [
    "**Question / Task 3**\n",
    "\n",
    "What is the statistics of these feature values? How many symptoms are reported or not?"
   ]
  },
  {
   "cell_type": "code",
   "execution_count": 17,
   "metadata": {},
   "outputs": [
    {
     "data": {
      "text/html": [
       "<div>\n",
       "<style scoped>\n",
       "    .dataframe tbody tr th:only-of-type {\n",
       "        vertical-align: middle;\n",
       "    }\n",
       "\n",
       "    .dataframe tbody tr th {\n",
       "        vertical-align: top;\n",
       "    }\n",
       "\n",
       "    .dataframe thead th {\n",
       "        text-align: right;\n",
       "    }\n",
       "</style>\n",
       "<table border=\"1\" class=\"dataframe\">\n",
       "  <thead>\n",
       "    <tr style=\"text-align: right;\">\n",
       "      <th></th>\n",
       "      <th>corona_result</th>\n",
       "      <th>count</th>\n",
       "    </tr>\n",
       "  </thead>\n",
       "  <tbody>\n",
       "    <tr>\n",
       "      <th>0</th>\n",
       "      <td>negative</td>\n",
       "      <td>48225</td>\n",
       "    </tr>\n",
       "    <tr>\n",
       "      <th>1</th>\n",
       "      <td>positive</td>\n",
       "      <td>4795</td>\n",
       "    </tr>\n",
       "  </tbody>\n",
       "</table>\n",
       "</div>"
      ],
      "text/plain": [
       "  corona_result  count\n",
       "0      negative  48225\n",
       "1      positive   4795"
      ]
     },
     "execution_count": 17,
     "metadata": {},
     "output_type": "execute_result"
    }
   ],
   "source": [
    "pd.DataFrame(df_trainvalidation['corona_result'].value_counts()).reset_index()"
   ]
  },
  {
   "cell_type": "code",
   "execution_count": 18,
   "metadata": {},
   "outputs": [
    {
     "name": "stdout",
     "output_type": "stream",
     "text": [
      "                           test_date         cough         fever  \\\n",
      "count                          53020  53004.000000  53003.000000   \n",
      "mean   2020-03-26 23:36:10.863825152      0.149875      0.088882   \n",
      "min              2020-03-22 00:00:00      0.000000      0.000000   \n",
      "25%              2020-03-25 00:00:00      0.000000      0.000000   \n",
      "50%              2020-03-27 00:00:00      0.000000      0.000000   \n",
      "75%              2020-03-29 00:00:00      0.000000      0.000000   \n",
      "max              2020-03-31 00:00:00      1.000000      1.000000   \n",
      "std                              NaN      0.356953      0.284576   \n",
      "\n",
      "        sore_throat  shortness_of_breath     head_ache  \n",
      "count  53020.000000         53020.000000  53020.000000  \n",
      "mean       0.015221             0.012033      0.022199  \n",
      "min        0.000000             0.000000      0.000000  \n",
      "25%        0.000000             0.000000      0.000000  \n",
      "50%        0.000000             0.000000      0.000000  \n",
      "75%        0.000000             0.000000      0.000000  \n",
      "max        1.000000             1.000000      1.000000  \n",
      "std        0.122431             0.109035      0.147332  \n"
     ]
    }
   ],
   "source": [
    "print(df_trainvalidation.describe())"
   ]
  },
  {
   "cell_type": "markdown",
   "metadata": {},
   "source": [
    "**Question / Task 4**\n",
    "\n",
    "Which symptoms have a reporting bias, i.e., likely to be reported when the patient is COVID positive?"
   ]
  },
  {
   "cell_type": "code",
   "execution_count": null,
   "metadata": {},
   "outputs": [],
   "source": []
  },
  {
   "cell_type": "markdown",
   "metadata": {},
   "source": [
    "**Question / Task 5**\n",
    "\n",
    "How will the symptoms with reporting bias affect the model’s performance?"
   ]
  },
  {
   "cell_type": "code",
   "execution_count": null,
   "metadata": {},
   "outputs": [],
   "source": []
  },
  {
   "cell_type": "markdown",
   "metadata": {},
   "source": [
    "**Question / Task 6**\n",
    "\n",
    "Visualization: Draw the bar graph of features grouped by the target class?"
   ]
  },
  {
   "cell_type": "code",
   "execution_count": 19,
   "metadata": {},
   "outputs": [
    {
     "data": {
      "text/plain": [
       "['test_date',\n",
       " 'cough',\n",
       " 'fever',\n",
       " 'sore_throat',\n",
       " 'shortness_of_breath',\n",
       " 'head_ache',\n",
       " 'corona_result',\n",
       " 'age_60_and_above',\n",
       " 'gender',\n",
       " 'test_indication']"
      ]
     },
     "execution_count": 19,
     "metadata": {},
     "output_type": "execute_result"
    }
   ],
   "source": [
    "list(df_trainvalidation.columns)"
   ]
  },
  {
   "cell_type": "code",
   "execution_count": 20,
   "metadata": {},
   "outputs": [
    {
     "data": {
      "text/plain": [
       "Text(0.5, 1.0, 'Frequency count of corona result')"
      ]
     },
     "execution_count": 20,
     "metadata": {},
     "output_type": "execute_result"
    },
    {
     "data": {
      "image/png": "[encoded data removed]",
      "text/plain": [
       "<Figure size 640x480 with 1 Axes>"
      ]
     },
     "metadata": {},
     "output_type": "display_data"
    }
   ],
   "source": [
    "df_summary = df.corona_result.value_counts()\n",
    "df_summary.plot(kind='bar')\n",
    "plt.title('Frequency count of corona result')"
   ]
  },
  {
   "cell_type": "markdown",
   "metadata": {},
   "source": [
    "## remove na's and drop rows where target != positive or negative"
   ]
  },
  {
   "cell_type": "code",
   "execution_count": 21,
   "metadata": {},
   "outputs": [],
   "source": [
    "target = 'corona_result'\n"
   ]
  },
  {
   "cell_type": "markdown",
   "metadata": {},
   "source": [
    "remove the target labels that are neither \"positive\" or \"negative\""
   ]
  },
  {
   "cell_type": "code",
   "execution_count": 22,
   "metadata": {},
   "outputs": [],
   "source": [
    "#map target to binary\n",
    "map_replace_target_labels = {'positive': 1, 'negative': 0}\n",
    "df_trainvalidation[target] = df_trainvalidation[target].map(map_replace_target_labels)\n",
    "df_test[target] = df_test[target].map(map_replace_target_labels)"
   ]
  },
  {
   "cell_type": "markdown",
   "metadata": {},
   "source": [
    "## Create pipeline"
   ]
  },
  {
   "cell_type": "code",
   "execution_count": 23,
   "metadata": {},
   "outputs": [],
   "source": [
    "from sklearn.pipeline import Pipeline\n",
    "from sklearn.compose import ColumnTransformer \n",
    "\n",
    "from sklearn.preprocessing import LabelEncoder, StandardScaler\n",
    "from sklearn.linear_model import LogisticRegression\n",
    "from sklearn.pipeline import Pipeline\n",
    "from sklearn.model_selection import train_test_split\n",
    "from sklearn.metrics import accuracy_score\n",
    "from sklearn.preprocessing import OneHotEncoder\n",
    "\n",
    "from sklearn.tree import DecisionTreeClassifier\n",
    "#sklearn.pipeline.Pipeline(steps, *, transform_input=None, memory=None, verbose=False"
   ]
  },
  {
   "cell_type": "code",
   "execution_count": 24,
   "metadata": {},
   "outputs": [],
   "source": [
    "#features to one hot encode\n",
    "list_to_encode = ['test_indication', 'gender', 'age_60_and_above' ]\n",
    "\n",
    "#stuff to ignore and drop from the model\n",
    "list_to_passthrough = ['test_date']\n",
    "\n",
    "#already binary features\n",
    "list_to_pass_to_model = ['cough', 'fever', 'sore_throat', 'shortness_of_breath',\n",
    "       'head_ache']\n"
   ]
  },
  {
   "cell_type": "markdown",
   "metadata": {},
   "source": [
    "### Create X and y"
   ]
  },
  {
   "cell_type": "markdown",
   "metadata": {},
   "source": [
    "? replace with train_test_split"
   ]
  },
  {
   "cell_type": "code",
   "execution_count": 25,
   "metadata": {},
   "outputs": [
    {
     "data": {
      "text/plain": [
       "\"\\n#map age to binary\\nage_map = {'No': 0, 'Yes': 1}\\ndf_trainvalidation['age_60_and_above'] = df_trainvalidation['age_60_and_above'].map(age_map)\\n\\n\\n\""
      ]
     },
     "execution_count": 25,
     "metadata": {},
     "output_type": "execute_result"
    }
   ],
   "source": [
    "\"\"\"\n",
    "#map age to binary\n",
    "age_map = {'No': 0, 'Yes': 1}\n",
    "df_trainvalidation['age_60_and_above'] = df_trainvalidation['age_60_and_above'].map(age_map)\n",
    "\n",
    "\n",
    "\"\"\""
   ]
  },
  {
   "cell_type": "code",
   "execution_count": 26,
   "metadata": {},
   "outputs": [],
   "source": [
    "df_trainvalidation.dropna(inplace=True)\n",
    "df_test.dropna(inplace=True)"
   ]
  },
  {
   "cell_type": "code",
   "execution_count": 27,
   "metadata": {},
   "outputs": [],
   "source": [
    "\"\"\"\n",
    "df_trainvalidation.sort_values(by='test_date', inplace=True)\n",
    "df_test.sort_values(by='test_date', inplace=True)\n",
    "\n",
    "df_trainvalidation= df_trainvalidation.map()\n",
    "\"\"\"\n",
    "\n",
    "from sklearn.model_selection import train_test_split\n",
    "\n",
    "X = df_trainvalidation.drop(target, axis=1)\n",
    "y = df_trainvalidation[target]\n",
    "X_train, X_validation, y_train, y_validation = train_test_split(X, y, random_state=123)"
   ]
  },
  {
   "cell_type": "markdown",
   "metadata": {},
   "source": [
    "set up pre-processor pipeline"
   ]
  },
  {
   "cell_type": "code",
   "execution_count": 29,
   "metadata": {},
   "outputs": [],
   "source": [
    "encoder_onehot = OneHotEncoder(drop='if_binary', handle_unknown='ignore')\n",
    "\n",
    "preprocessor = ColumnTransformer(\n",
    "    transformers=[\n",
    "        #(\"num\", numeric_transformer, numerical_features),\n",
    "        (\"cat\", encoder_onehot, list_to_encode),\n",
    "        (\"bool\", \"passthrough\", list_to_pass_to_model),\n",
    "        #(\"time\", \"passthrough\", time_features),\n",
    "    ],\n",
    "    verbose_feature_names_out=False,\n",
    "    remainder = 'drop' #model will ignore date field\n",
    ")\n",
    "\n",
    "classifier = DecisionTreeClassifier()\n",
    "\n",
    "pipeline = Pipeline([\n",
    "    ('preprocessor', preprocessor), \n",
    "    ('clf', classifier)\n",
    "])\n"
   ]
  },
  {
   "cell_type": "code",
   "execution_count": 30,
   "metadata": {},
   "outputs": [],
   "source": [
    "\n",
    "X_train_transformed = pd.DataFrame(preprocessor.fit_transform(X_train),columns = preprocessor.get_feature_names_out())\n",
    "\n",
    "#X_train_transformed"
   ]
  },
  {
   "cell_type": "code",
   "execution_count": 31,
   "metadata": {},
   "outputs": [],
   "source": [
    "pipeline.fit(X_train, y_train)\n",
    "\n",
    "#ignoring validation\n",
    "\n",
    "y_validation_pred = pipeline.predict(X_validation)\n",
    "y_pred = pipeline.predict(X_train)\n",
    "y_pred_test = pipeline.predict(X_test)\n"
   ]
  },
  {
   "cell_type": "code",
   "execution_count": 78,
   "metadata": {},
   "outputs": [
    {
     "name": "stdout",
     "output_type": "stream",
     "text": [
      "\n",
      "Accuracy:\n",
      "Validation set = 0.9607071174926664, Training set = 0.9585692228512609\n",
      "\n",
      "Precision:\n",
      "Validation set = 0.8710407239819005, Training set = 0.8510788822072869\n",
      "\n",
      "Recall:\n",
      "Validation set = 0.6609442060085837, Training set = 0.6692628650904033\n",
      "\n",
      "F1 Score:\n",
      "Validation set = 0.7515861395802831, Training set = 0.7492992837122392\n"
     ]
    }
   ],
   "source": [
    "from sklearn.metrics import (\n",
    "    confusion_matrix,\n",
    "    accuracy_score,\n",
    "    precision_score,\n",
    "    recall_score,\n",
    "    f1_score,\n",
    "    balanced_accuracy_score,\n",
    ")\n",
    "\n",
    "#train scores\n",
    "accuracy_train = accuracy_score(y_train, y_pred)\n",
    "precision_train = precision_score(y_train, y_pred)\n",
    "recall_train = recall_score(y_train, y_pred)\n",
    "f1score_train = f1_score(y_train, y_pred)\n",
    "\n",
    "#validation scores\n",
    "accuracy_val = accuracy_score(y_validation, y_validation_pred)\n",
    "precision_val = precision_score(y_validation, y_validation_pred)\n",
    "recall_val = recall_score(y_validation, y_validation_pred)\n",
    "f1score_val = f1_score(y_validation, y_validation_pred)\n",
    "\n",
    "print(f\"\\nAccuracy:\")\n",
    "print(f\"Validation set = {accuracy_val}, Training set = {accuracy_train}\")\n",
    "print(f\"\\nPrecision:\")\n",
    "print(f\"Validation set = {precision_val}, Training set = {precision_train}\")\n",
    "print(f\"\\nRecall:\")\n",
    "print(f\"Validation set = {recall_val}, Training set = {recall_train}\")\n",
    "print(f\"\\nF1 Score:\")\n",
    "print(f\"Validation set = {f1score_val}, Training set = {f1score_train}\")"
   ]
  },
  {
   "cell_type": "code",
   "execution_count": 33,
   "metadata": {},
   "outputs": [
    {
     "name": "stdout",
     "output_type": "stream",
     "text": [
      "              precision    recall  f1-score   support\n",
      "\n",
      "           0       0.97      0.99      0.98     11789\n",
      "           1       0.87      0.66      0.75      1165\n",
      "\n",
      "    accuracy                           0.96     12954\n",
      "   macro avg       0.92      0.83      0.87     12954\n",
      "weighted avg       0.96      0.96      0.96     12954\n",
      "\n"
     ]
    }
   ],
   "source": [
    "from sklearn.metrics import classification_report\n",
    "print(classification_report(y_validation, y_validation_pred))"
   ]
  },
  {
   "cell_type": "code",
   "execution_count": 34,
   "metadata": {},
   "outputs": [
    {
     "data": {
      "text/plain": [
       "0.8050214283645143"
      ]
     },
     "execution_count": 34,
     "metadata": {},
     "output_type": "execute_result"
    }
   ],
   "source": [
    "from sklearn.metrics import roc_auc_score\n",
    "roc_auc_score(y_test, y_pred_test)\n"
   ]
  },
  {
   "cell_type": "markdown",
   "metadata": {},
   "source": [
    "Trying other classifiers"
   ]
  },
  {
   "cell_type": "code",
   "execution_count": 153,
   "metadata": {},
   "outputs": [],
   "source": [
    "def run_pipe(dict_models,\n",
    "             X_train, \n",
    "             y_train,\n",
    "             X_validation,\n",
    "             y_validation,\n",
    "             X_test,\n",
    "             y_test,\n",
    "             preprocessor,\n",
    "             simpleImputer = \"None\"\n",
    "            ):\n",
    "    \n",
    "    dict_results = {}\n",
    "    dict_confusion_matrixes = {}\n",
    "    dict_roc_auc_scores = {}\n",
    "    dict_pipeline = {}\n",
    "    \n",
    "    for model_name, model in dict_models.items():\n",
    "        if simpleImputer == \"None\":\n",
    "            pipeline = Pipeline([\n",
    "                ('preprocessor', preprocessor),\n",
    "                ('clf', model)\n",
    "            ])\n",
    "        else:\n",
    "            pipeline = Pipeline([\n",
    "            ('preprocessor', preprocessor),\n",
    "            ('imputer', simpleImputer),\n",
    "            ('clf', model)\n",
    "        ])\n",
    "\n",
    "        pipeline.fit(X_train, y_train)\n",
    "        #ignoring validation\n",
    "        \n",
    "        dict_pipeline[model_name] = pipeline\n",
    "\n",
    "        y_validation_pred = pipeline.predict(X_validation)\n",
    "        y_pred = pipeline.predict(X_train)\n",
    "        \n",
    "        #y_pred_proba_validation = pipeline.predict_proba(X_validation)[:,1]\n",
    "        \n",
    "        \"\"\"\n",
    "        dict_varying_threshold = {}\n",
    "        for threshold in np.arange(0.1, 0.95, 0.05):\n",
    "            custom_predictions = y_pred_proba_validation >= threshold\n",
    "            vary_threshold_precision_valid = precision_score(y_validation, y_validation_pred)\n",
    "            vary_threshold_recall_valid = recall_score(y_validation, y_validation_pred)\n",
    "            \n",
    "            temp_dict = {}\n",
    "            temp_dict['vary_threshold_precision_valid'] = vary_threshold_precision_valid\n",
    "            temp_dict['vary_threshold_recall_valid'] = vary_threshold_recall_valid\n",
    "            dict_varying_thresholdp[threshold] = temp_dict\n",
    "        \"\"\"\n",
    "                    \n",
    "        y_pred_test = pipeline.predict(X_test)\n",
    "\n",
    "        #train scores\n",
    "        accuracy_train = balanced_accuracy_score(y_train, y_pred)\n",
    "        precision_train = precision_score(y_train, y_pred)\n",
    "        recall_train = recall_score(y_train, y_pred)\n",
    "        f1score_train = f1_score(y_train, y_pred)\n",
    "        f1score_train_weighted = f1_score(y_train, y_pred, average='macro')\n",
    "        f1score_train_balanced = f1_score(y_train, y_pred, average='weighted')\n",
    "\n",
    "        #validation scores\n",
    "        accuracy_val = balanced_accuracy_score(y_validation, y_validation_pred)\n",
    "        precision_val = precision_score(y_validation, y_validation_pred)\n",
    "        recall_val = recall_score(y_validation, y_validation_pred)\n",
    "        f1score_val = f1_score(y_validation, y_validation_pred)\n",
    "        f1score_val_weighted = f1_score(y_validation, y_validation_pred, average='macro')\n",
    "        f1score_val_balanced = f1_score(y_validation, y_validation_pred, average='weighted')\n",
    "        \n",
    "        temp_results_dict = {}\n",
    "        temp_results_dict['accuracy_train'] = accuracy_train\n",
    "        temp_results_dict['precision_train'] = precision_train\n",
    "        temp_results_dict['recall_train'] = recall_train\n",
    "        temp_results_dict['f1score_train'] = f1score_train\n",
    "        temp_results_dict['f1score_train_weighted'] = f1score_train_weighted\n",
    "        temp_results_dict['f1score_train_balanced'] = f1score_train_balanced\n",
    "        \n",
    "        temp_results_dict['accuracy_val'] = accuracy_val\n",
    "        temp_results_dict['precision_val'] = precision_val\n",
    "        temp_results_dict['recall_val'] = recall_val\n",
    "        temp_results_dict['f1score_val'] = f1score_val\n",
    "        temp_results_dict['f1score_val_weighted'] = f1score_val_weighted\n",
    "        temp_results_dict['f1score_val_balanced'] = f1score_val_balanced\n",
    "        \n",
    "        dict_results[model_name] = temp_results_dict\n",
    "        \n",
    "        conf_matrix = classification_report(y_validation, y_validation_pred)\n",
    "        dict_confusion_matrixes[model_name] = conf_matrix\n",
    "        \n",
    "        roc_score = roc_auc_score(y_test, y_pred_test)\n",
    "        roc_score_validation = roc_auc_score(y_validation, y_validation_pred)\n",
    "        temp_results_dict = {}\n",
    "        temp_results_dict['roc_score'] = roc_score\n",
    "        temp_results_dict['roc_score_validation'] = roc_score_validation\n",
    "        \n",
    "        dict_roc_auc_scores[model_name] = temp_results_dict\n",
    "    \n",
    "    df_results = pd.DataFrame(dict_results)\n",
    "    \n",
    "    \n",
    "    return df_results, dict_confusion_matrixes, dict_roc_auc_scores, dict_pipeline"
   ]
  },
  {
   "cell_type": "code",
   "execution_count": 36,
   "metadata": {},
   "outputs": [],
   "source": [
    "from sklearn.ensemble import RandomForestClassifier\n",
    "from sklearn.linear_model import LogisticRegression\n",
    "from sklearn.svm import SVC\n",
    "from sklearn.linear_model import SGDClassifier\n",
    "\n",
    "import xgboost as xgb\n",
    "\n",
    "from sklearn.linear_model import LogisticRegression\n",
    "from sklearn.neighbors import KNeighborsClassifier\n",
    "from sklearn.svm import SVC\n",
    "from sklearn.tree import DecisionTreeClassifier\n",
    "from sklearn.ensemble import RandomForestClassifier\n",
    "from sklearn.naive_bayes import GaussianNB\n",
    "from sklearn.ensemble import GradientBoostingClassifier"
   ]
  },
  {
   "cell_type": "code",
   "execution_count": 80,
   "metadata": {},
   "outputs": [],
   "source": [
    "#dict_models = {\n",
    "#    'RandomForestClassifier': RandomForestClassifier(),\n",
    "#    'DecisionTreeClassifier': DecisionTreeClassifier(),\n",
    "#    'XGBoost': xgb.XGBClassifier()\n",
    "#    }\n",
    "\n",
    "dict_models = {\n",
    "    \"Logistic Regression\": LogisticRegression(random_state = 123),\n",
    "    \n",
    "    \"K-Nearest Neighbors\": KNeighborsClassifier(),\n",
    "    \n",
    "    \"Support Vector Classifier (SVC)\": SVC(random_state = 123),\n",
    "    \n",
    "    \"Decision Tree\": DecisionTreeClassifier(random_state = 123),\n",
    "    \n",
    "    \"Random Forest\": RandomForestClassifier(\n",
    "        class_weight = 'balanced', \n",
    "        random_state = 123, \n",
    "        max_depth = 10\n",
    "    ),\n",
    "    \n",
    "    \"Gaussian Naive Bayes\": GaussianNB(),\n",
    "    \n",
    "    \"Gradient Boosting\": GradientBoostingClassifier(random_state = 123),\n",
    "    \n",
    "    'XGBoost': xgb.XGBClassifier(random_state = 123)\n",
    "}"
   ]
  },
  {
   "cell_type": "code",
   "execution_count": 85,
   "metadata": {},
   "outputs": [],
   "source": [
    "df_results, dict_confusion_matrixes, dict_roc_auc_scores = run_pipe(dict_models,\n",
    "             X_train, \n",
    "             y_train,\n",
    "             X_validation,\n",
    "             y_validation,\n",
    "             X_test,\n",
    "             y_test,\n",
    "            preprocessor\n",
    "            )"
   ]
  },
  {
   "cell_type": "code",
   "execution_count": 86,
   "metadata": {},
   "outputs": [],
   "source": [
    "# subset to lesser number of features\n",
    "list_to_encode_subset = ['test_indication', 'gender', 'age_60_and_above']\n",
    "list_to_pass_to_model_subset = [\n",
    "    'cough', 'fever'\n",
    "]\n",
    "\n",
    "#change list above to exclude:\n",
    "#'sore_throat', 'shortness_of_breath', 'head_ache'\n",
    "\n",
    "preprocessor_two = ColumnTransformer(\n",
    "    transformers=[\n",
    "        #(\"num\", numeric_transformer, numerical_features),\n",
    "        (\"cat\", encoder_onehot, list_to_encode_subset),\n",
    "        (\"bool\", \"passthrough\", list_to_pass_to_model_subset),\n",
    "        #(\"time\", \"passthrough\", time_features),\n",
    "    ],\n",
    "    verbose_feature_names_out=False,\n",
    "    remainder = 'drop' #model will ignore date field\n",
    ")"
   ]
  },
  {
   "cell_type": "code",
   "execution_count": 87,
   "metadata": {},
   "outputs": [],
   "source": [
    "df_results_subset, dict_confusion_matrixes_subset, dict_roc_auc_scores_subset = run_pipe(dict_models,\n",
    "             X_train, \n",
    "             y_train,\n",
    "             X_validation,\n",
    "             y_validation,\n",
    "             X_test,\n",
    "             y_test,\n",
    "            preprocessor_two\n",
    "            )"
   ]
  },
  {
   "cell_type": "code",
   "execution_count": null,
   "metadata": {},
   "outputs": [],
   "source": [
    "dict_roc_auc_scores"
   ]
  },
  {
   "cell_type": "markdown",
   "metadata": {},
   "source": [
    "## initial output - all features included"
   ]
  },
  {
   "cell_type": "code",
   "execution_count": 88,
   "metadata": {},
   "outputs": [
    {
     "data": {
      "text/html": [
       "<div>\n",
       "<style scoped>\n",
       "    .dataframe tbody tr th:only-of-type {\n",
       "        vertical-align: middle;\n",
       "    }\n",
       "\n",
       "    .dataframe tbody tr th {\n",
       "        vertical-align: top;\n",
       "    }\n",
       "\n",
       "    .dataframe thead th {\n",
       "        text-align: right;\n",
       "    }\n",
       "</style>\n",
       "<table border=\"1\" class=\"dataframe\">\n",
       "  <thead>\n",
       "    <tr style=\"text-align: right;\">\n",
       "      <th></th>\n",
       "      <th>Logistic Regression</th>\n",
       "      <th>K-Nearest Neighbors</th>\n",
       "      <th>Support Vector Classifier (SVC)</th>\n",
       "      <th>Decision Tree</th>\n",
       "      <th>Random Forest</th>\n",
       "      <th>Gaussian Naive Bayes</th>\n",
       "      <th>Gradient Boosting</th>\n",
       "      <th>XGBoost</th>\n",
       "    </tr>\n",
       "  </thead>\n",
       "  <tbody>\n",
       "    <tr>\n",
       "      <th>roc_score</th>\n",
       "      <td>0.730174</td>\n",
       "      <td>0.765876</td>\n",
       "      <td>0.804622</td>\n",
       "      <td>0.804725</td>\n",
       "      <td>0.846992</td>\n",
       "      <td>0.817019</td>\n",
       "      <td>0.796349</td>\n",
       "      <td>0.804725</td>\n",
       "    </tr>\n",
       "    <tr>\n",
       "      <th>roc_score_validation</th>\n",
       "      <td>0.746183</td>\n",
       "      <td>0.780277</td>\n",
       "      <td>0.804132</td>\n",
       "      <td>0.802844</td>\n",
       "      <td>0.882111</td>\n",
       "      <td>0.862094</td>\n",
       "      <td>0.798415</td>\n",
       "      <td>0.802844</td>\n",
       "    </tr>\n",
       "    <tr>\n",
       "      <th>accuracy_train</th>\n",
       "      <td>0.742553</td>\n",
       "      <td>0.773530</td>\n",
       "      <td>0.807151</td>\n",
       "      <td>0.805902</td>\n",
       "      <td>0.888025</td>\n",
       "      <td>0.864722</td>\n",
       "      <td>0.800892</td>\n",
       "      <td>0.805902</td>\n",
       "    </tr>\n",
       "    <tr>\n",
       "      <th>precision_train</th>\n",
       "      <td>0.753865</td>\n",
       "      <td>0.688021</td>\n",
       "      <td>0.714907</td>\n",
       "      <td>0.716250</td>\n",
       "      <td>0.435342</td>\n",
       "      <td>0.431604</td>\n",
       "      <td>0.721564</td>\n",
       "      <td>0.716250</td>\n",
       "    </tr>\n",
       "    <tr>\n",
       "      <th>recall_train</th>\n",
       "      <td>0.501808</td>\n",
       "      <td>0.573574</td>\n",
       "      <td>0.640334</td>\n",
       "      <td>0.637552</td>\n",
       "      <td>0.894298</td>\n",
       "      <td>0.842559</td>\n",
       "      <td>0.626426</td>\n",
       "      <td>0.637552</td>\n",
       "    </tr>\n",
       "    <tr>\n",
       "      <th>f1score_train</th>\n",
       "      <td>0.602538</td>\n",
       "      <td>0.625607</td>\n",
       "      <td>0.675569</td>\n",
       "      <td>0.674614</td>\n",
       "      <td>0.585610</td>\n",
       "      <td>0.570809</td>\n",
       "      <td>0.670637</td>\n",
       "      <td>0.674614</td>\n",
       "    </tr>\n",
       "    <tr>\n",
       "      <th>f1score_train_weighted</th>\n",
       "      <td>0.784680</td>\n",
       "      <td>0.795454</td>\n",
       "      <td>0.822193</td>\n",
       "      <td>0.821720</td>\n",
       "      <td>0.758718</td>\n",
       "      <td>0.751466</td>\n",
       "      <td>0.819742</td>\n",
       "      <td>0.821720</td>\n",
       "    </tr>\n",
       "    <tr>\n",
       "      <th>f1score_train_balanced</th>\n",
       "      <td>0.933121</td>\n",
       "      <td>0.933876</td>\n",
       "      <td>0.941689</td>\n",
       "      <td>0.941608</td>\n",
       "      <td>0.899796</td>\n",
       "      <td>0.898698</td>\n",
       "      <td>0.941259</td>\n",
       "      <td>0.941608</td>\n",
       "    </tr>\n",
       "    <tr>\n",
       "      <th>accuracy_val</th>\n",
       "      <td>0.746183</td>\n",
       "      <td>0.780277</td>\n",
       "      <td>0.804132</td>\n",
       "      <td>0.802844</td>\n",
       "      <td>0.882111</td>\n",
       "      <td>0.862094</td>\n",
       "      <td>0.798415</td>\n",
       "      <td>0.802844</td>\n",
       "    </tr>\n",
       "    <tr>\n",
       "      <th>precision_val</th>\n",
       "      <td>0.770535</td>\n",
       "      <td>0.699487</td>\n",
       "      <td>0.726555</td>\n",
       "      <td>0.725743</td>\n",
       "      <td>0.427678</td>\n",
       "      <td>0.421598</td>\n",
       "      <td>0.734964</td>\n",
       "      <td>0.725743</td>\n",
       "    </tr>\n",
       "    <tr>\n",
       "      <th>recall_val</th>\n",
       "      <td>0.507296</td>\n",
       "      <td>0.585408</td>\n",
       "      <td>0.631760</td>\n",
       "      <td>0.629185</td>\n",
       "      <td>0.880687</td>\n",
       "      <td>0.837768</td>\n",
       "      <td>0.618884</td>\n",
       "      <td>0.629185</td>\n",
       "    </tr>\n",
       "    <tr>\n",
       "      <th>f1score_val</th>\n",
       "      <td>0.611801</td>\n",
       "      <td>0.637383</td>\n",
       "      <td>0.675849</td>\n",
       "      <td>0.674023</td>\n",
       "      <td>0.575758</td>\n",
       "      <td>0.560920</td>\n",
       "      <td>0.671948</td>\n",
       "      <td>0.674023</td>\n",
       "    </tr>\n",
       "    <tr>\n",
       "      <th>f1score_val_weighted</th>\n",
       "      <td>0.790260</td>\n",
       "      <td>0.802367</td>\n",
       "      <td>0.823049</td>\n",
       "      <td>0.822074</td>\n",
       "      <td>0.754044</td>\n",
       "      <td>0.746395</td>\n",
       "      <td>0.821160</td>\n",
       "      <td>0.822074</td>\n",
       "    </tr>\n",
       "    <tr>\n",
       "      <th>f1score_val_balanced</th>\n",
       "      <td>0.936620</td>\n",
       "      <td>0.937676</td>\n",
       "      <td>0.943772</td>\n",
       "      <td>0.943496</td>\n",
       "      <td>0.900263</td>\n",
       "      <td>0.898510</td>\n",
       "      <td>0.943534</td>\n",
       "      <td>0.943496</td>\n",
       "    </tr>\n",
       "  </tbody>\n",
       "</table>\n",
       "</div>"
      ],
      "text/plain": [
       "                        Logistic Regression  K-Nearest Neighbors  \\\n",
       "roc_score                          0.730174             0.765876   \n",
       "roc_score_validation               0.746183             0.780277   \n",
       "accuracy_train                     0.742553             0.773530   \n",
       "precision_train                    0.753865             0.688021   \n",
       "recall_train                       0.501808             0.573574   \n",
       "f1score_train                      0.602538             0.625607   \n",
       "f1score_train_weighted             0.784680             0.795454   \n",
       "f1score_train_balanced             0.933121             0.933876   \n",
       "accuracy_val                       0.746183             0.780277   \n",
       "precision_val                      0.770535             0.699487   \n",
       "recall_val                         0.507296             0.585408   \n",
       "f1score_val                        0.611801             0.637383   \n",
       "f1score_val_weighted               0.790260             0.802367   \n",
       "f1score_val_balanced               0.936620             0.937676   \n",
       "\n",
       "                        Support Vector Classifier (SVC)  Decision Tree  \\\n",
       "roc_score                                      0.804622       0.804725   \n",
       "roc_score_validation                           0.804132       0.802844   \n",
       "accuracy_train                                 0.807151       0.805902   \n",
       "precision_train                                0.714907       0.716250   \n",
       "recall_train                                   0.640334       0.637552   \n",
       "f1score_train                                  0.675569       0.674614   \n",
       "f1score_train_weighted                         0.822193       0.821720   \n",
       "f1score_train_balanced                         0.941689       0.941608   \n",
       "accuracy_val                                   0.804132       0.802844   \n",
       "precision_val                                  0.726555       0.725743   \n",
       "recall_val                                     0.631760       0.629185   \n",
       "f1score_val                                    0.675849       0.674023   \n",
       "f1score_val_weighted                           0.823049       0.822074   \n",
       "f1score_val_balanced                           0.943772       0.943496   \n",
       "\n",
       "                        Random Forest  Gaussian Naive Bayes  \\\n",
       "roc_score                    0.846992              0.817019   \n",
       "roc_score_validation         0.882111              0.862094   \n",
       "accuracy_train               0.888025              0.864722   \n",
       "precision_train              0.435342              0.431604   \n",
       "recall_train                 0.894298              0.842559   \n",
       "f1score_train                0.585610              0.570809   \n",
       "f1score_train_weighted       0.758718              0.751466   \n",
       "f1score_train_balanced       0.899796              0.898698   \n",
       "accuracy_val                 0.882111              0.862094   \n",
       "precision_val                0.427678              0.421598   \n",
       "recall_val                   0.880687              0.837768   \n",
       "f1score_val                  0.575758              0.560920   \n",
       "f1score_val_weighted         0.754044              0.746395   \n",
       "f1score_val_balanced         0.900263              0.898510   \n",
       "\n",
       "                        Gradient Boosting   XGBoost  \n",
       "roc_score                        0.796349  0.804725  \n",
       "roc_score_validation             0.798415  0.802844  \n",
       "accuracy_train                   0.800892  0.805902  \n",
       "precision_train                  0.721564  0.716250  \n",
       "recall_train                     0.626426  0.637552  \n",
       "f1score_train                    0.670637  0.674614  \n",
       "f1score_train_weighted           0.819742  0.821720  \n",
       "f1score_train_balanced           0.941259  0.941608  \n",
       "accuracy_val                     0.798415  0.802844  \n",
       "precision_val                    0.734964  0.725743  \n",
       "recall_val                       0.618884  0.629185  \n",
       "f1score_val                      0.671948  0.674023  \n",
       "f1score_val_weighted             0.821160  0.822074  \n",
       "f1score_val_balanced             0.943534  0.943496  "
      ]
     },
     "execution_count": 88,
     "metadata": {},
     "output_type": "execute_result"
    }
   ],
   "source": [
    "df_all = pd.concat([pd.DataFrame(dict_roc_auc_scores.values(), index=dict_roc_auc_scores.keys()).T, df_results])\n",
    "df_all"
   ]
  },
  {
   "cell_type": "code",
   "execution_count": 89,
   "metadata": {},
   "outputs": [
    {
     "data": {
      "text/plain": [
       "'Random Forest'"
      ]
     },
     "execution_count": 89,
     "metadata": {},
     "output_type": "execute_result"
    }
   ],
   "source": [
    "\n",
    "#highest roc auc\n",
    "df_all.loc['roc_score_validation'].idxmax()"
   ]
  },
  {
   "cell_type": "markdown",
   "metadata": {},
   "source": [
    "## second output - subset of features"
   ]
  },
  {
   "cell_type": "code",
   "execution_count": 144,
   "metadata": {},
   "outputs": [
    {
     "data": {
      "text/html": [
       "<style type=\"text/css\">\n",
       "#T_c7bf4_row0_col4, #T_c7bf4_row1_col4, #T_c7bf4_row2_col4, #T_c7bf4_row3_col0, #T_c7bf4_row4_col4, #T_c7bf4_row5_col2, #T_c7bf4_row6_col2, #T_c7bf4_row7_col2, #T_c7bf4_row8_col4, #T_c7bf4_row9_col0, #T_c7bf4_row10_col4, #T_c7bf4_row11_col2, #T_c7bf4_row12_col2, #T_c7bf4_row13_col2 {\n",
       "  background-color: yellow;\n",
       "}\n",
       "</style>\n",
       "<table id=\"T_c7bf4\">\n",
       "  <thead>\n",
       "    <tr>\n",
       "      <th class=\"blank level0\" >&nbsp;</th>\n",
       "      <th id=\"T_c7bf4_level0_col0\" class=\"col_heading level0 col0\" >Logistic Regression</th>\n",
       "      <th id=\"T_c7bf4_level0_col1\" class=\"col_heading level0 col1\" >K-Nearest Neighbors</th>\n",
       "      <th id=\"T_c7bf4_level0_col2\" class=\"col_heading level0 col2\" >Support Vector Classifier (SVC)</th>\n",
       "      <th id=\"T_c7bf4_level0_col3\" class=\"col_heading level0 col3\" >Decision Tree</th>\n",
       "      <th id=\"T_c7bf4_level0_col4\" class=\"col_heading level0 col4\" >Random Forest</th>\n",
       "      <th id=\"T_c7bf4_level0_col5\" class=\"col_heading level0 col5\" >Gaussian Naive Bayes</th>\n",
       "      <th id=\"T_c7bf4_level0_col6\" class=\"col_heading level0 col6\" >Gradient Boosting</th>\n",
       "      <th id=\"T_c7bf4_level0_col7\" class=\"col_heading level0 col7\" >XGBoost</th>\n",
       "    </tr>\n",
       "  </thead>\n",
       "  <tbody>\n",
       "    <tr>\n",
       "      <th id=\"T_c7bf4_level0_row0\" class=\"row_heading level0 row0\" >roc_score</th>\n",
       "      <td id=\"T_c7bf4_row0_col0\" class=\"data row0 col0\" >0.730174</td>\n",
       "      <td id=\"T_c7bf4_row0_col1\" class=\"data row0 col1\" >0.765876</td>\n",
       "      <td id=\"T_c7bf4_row0_col2\" class=\"data row0 col2\" >0.804622</td>\n",
       "      <td id=\"T_c7bf4_row0_col3\" class=\"data row0 col3\" >0.804725</td>\n",
       "      <td id=\"T_c7bf4_row0_col4\" class=\"data row0 col4\" >0.846992</td>\n",
       "      <td id=\"T_c7bf4_row0_col5\" class=\"data row0 col5\" >0.817019</td>\n",
       "      <td id=\"T_c7bf4_row0_col6\" class=\"data row0 col6\" >0.796349</td>\n",
       "      <td id=\"T_c7bf4_row0_col7\" class=\"data row0 col7\" >0.804725</td>\n",
       "    </tr>\n",
       "    <tr>\n",
       "      <th id=\"T_c7bf4_level0_row1\" class=\"row_heading level0 row1\" >roc_score_validation</th>\n",
       "      <td id=\"T_c7bf4_row1_col0\" class=\"data row1 col0\" >0.746183</td>\n",
       "      <td id=\"T_c7bf4_row1_col1\" class=\"data row1 col1\" >0.780277</td>\n",
       "      <td id=\"T_c7bf4_row1_col2\" class=\"data row1 col2\" >0.804132</td>\n",
       "      <td id=\"T_c7bf4_row1_col3\" class=\"data row1 col3\" >0.802844</td>\n",
       "      <td id=\"T_c7bf4_row1_col4\" class=\"data row1 col4\" >0.882111</td>\n",
       "      <td id=\"T_c7bf4_row1_col5\" class=\"data row1 col5\" >0.862094</td>\n",
       "      <td id=\"T_c7bf4_row1_col6\" class=\"data row1 col6\" >0.798415</td>\n",
       "      <td id=\"T_c7bf4_row1_col7\" class=\"data row1 col7\" >0.802844</td>\n",
       "    </tr>\n",
       "    <tr>\n",
       "      <th id=\"T_c7bf4_level0_row2\" class=\"row_heading level0 row2\" >accuracy_train</th>\n",
       "      <td id=\"T_c7bf4_row2_col0\" class=\"data row2 col0\" >0.742553</td>\n",
       "      <td id=\"T_c7bf4_row2_col1\" class=\"data row2 col1\" >0.773530</td>\n",
       "      <td id=\"T_c7bf4_row2_col2\" class=\"data row2 col2\" >0.807151</td>\n",
       "      <td id=\"T_c7bf4_row2_col3\" class=\"data row2 col3\" >0.805902</td>\n",
       "      <td id=\"T_c7bf4_row2_col4\" class=\"data row2 col4\" >0.888025</td>\n",
       "      <td id=\"T_c7bf4_row2_col5\" class=\"data row2 col5\" >0.864722</td>\n",
       "      <td id=\"T_c7bf4_row2_col6\" class=\"data row2 col6\" >0.800892</td>\n",
       "      <td id=\"T_c7bf4_row2_col7\" class=\"data row2 col7\" >0.805902</td>\n",
       "    </tr>\n",
       "    <tr>\n",
       "      <th id=\"T_c7bf4_level0_row3\" class=\"row_heading level0 row3\" >precision_train</th>\n",
       "      <td id=\"T_c7bf4_row3_col0\" class=\"data row3 col0\" >0.753865</td>\n",
       "      <td id=\"T_c7bf4_row3_col1\" class=\"data row3 col1\" >0.688021</td>\n",
       "      <td id=\"T_c7bf4_row3_col2\" class=\"data row3 col2\" >0.714907</td>\n",
       "      <td id=\"T_c7bf4_row3_col3\" class=\"data row3 col3\" >0.716250</td>\n",
       "      <td id=\"T_c7bf4_row3_col4\" class=\"data row3 col4\" >0.435342</td>\n",
       "      <td id=\"T_c7bf4_row3_col5\" class=\"data row3 col5\" >0.431604</td>\n",
       "      <td id=\"T_c7bf4_row3_col6\" class=\"data row3 col6\" >0.721564</td>\n",
       "      <td id=\"T_c7bf4_row3_col7\" class=\"data row3 col7\" >0.716250</td>\n",
       "    </tr>\n",
       "    <tr>\n",
       "      <th id=\"T_c7bf4_level0_row4\" class=\"row_heading level0 row4\" >recall_train</th>\n",
       "      <td id=\"T_c7bf4_row4_col0\" class=\"data row4 col0\" >0.501808</td>\n",
       "      <td id=\"T_c7bf4_row4_col1\" class=\"data row4 col1\" >0.573574</td>\n",
       "      <td id=\"T_c7bf4_row4_col2\" class=\"data row4 col2\" >0.640334</td>\n",
       "      <td id=\"T_c7bf4_row4_col3\" class=\"data row4 col3\" >0.637552</td>\n",
       "      <td id=\"T_c7bf4_row4_col4\" class=\"data row4 col4\" >0.894298</td>\n",
       "      <td id=\"T_c7bf4_row4_col5\" class=\"data row4 col5\" >0.842559</td>\n",
       "      <td id=\"T_c7bf4_row4_col6\" class=\"data row4 col6\" >0.626426</td>\n",
       "      <td id=\"T_c7bf4_row4_col7\" class=\"data row4 col7\" >0.637552</td>\n",
       "    </tr>\n",
       "    <tr>\n",
       "      <th id=\"T_c7bf4_level0_row5\" class=\"row_heading level0 row5\" >f1score_train</th>\n",
       "      <td id=\"T_c7bf4_row5_col0\" class=\"data row5 col0\" >0.602538</td>\n",
       "      <td id=\"T_c7bf4_row5_col1\" class=\"data row5 col1\" >0.625607</td>\n",
       "      <td id=\"T_c7bf4_row5_col2\" class=\"data row5 col2\" >0.675569</td>\n",
       "      <td id=\"T_c7bf4_row5_col3\" class=\"data row5 col3\" >0.674614</td>\n",
       "      <td id=\"T_c7bf4_row5_col4\" class=\"data row5 col4\" >0.585610</td>\n",
       "      <td id=\"T_c7bf4_row5_col5\" class=\"data row5 col5\" >0.570809</td>\n",
       "      <td id=\"T_c7bf4_row5_col6\" class=\"data row5 col6\" >0.670637</td>\n",
       "      <td id=\"T_c7bf4_row5_col7\" class=\"data row5 col7\" >0.674614</td>\n",
       "    </tr>\n",
       "    <tr>\n",
       "      <th id=\"T_c7bf4_level0_row6\" class=\"row_heading level0 row6\" >f1score_train_weighted</th>\n",
       "      <td id=\"T_c7bf4_row6_col0\" class=\"data row6 col0\" >0.784680</td>\n",
       "      <td id=\"T_c7bf4_row6_col1\" class=\"data row6 col1\" >0.795454</td>\n",
       "      <td id=\"T_c7bf4_row6_col2\" class=\"data row6 col2\" >0.822193</td>\n",
       "      <td id=\"T_c7bf4_row6_col3\" class=\"data row6 col3\" >0.821720</td>\n",
       "      <td id=\"T_c7bf4_row6_col4\" class=\"data row6 col4\" >0.758718</td>\n",
       "      <td id=\"T_c7bf4_row6_col5\" class=\"data row6 col5\" >0.751466</td>\n",
       "      <td id=\"T_c7bf4_row6_col6\" class=\"data row6 col6\" >0.819742</td>\n",
       "      <td id=\"T_c7bf4_row6_col7\" class=\"data row6 col7\" >0.821720</td>\n",
       "    </tr>\n",
       "    <tr>\n",
       "      <th id=\"T_c7bf4_level0_row7\" class=\"row_heading level0 row7\" >f1score_train_balanced</th>\n",
       "      <td id=\"T_c7bf4_row7_col0\" class=\"data row7 col0\" >0.933121</td>\n",
       "      <td id=\"T_c7bf4_row7_col1\" class=\"data row7 col1\" >0.933876</td>\n",
       "      <td id=\"T_c7bf4_row7_col2\" class=\"data row7 col2\" >0.941689</td>\n",
       "      <td id=\"T_c7bf4_row7_col3\" class=\"data row7 col3\" >0.941608</td>\n",
       "      <td id=\"T_c7bf4_row7_col4\" class=\"data row7 col4\" >0.899796</td>\n",
       "      <td id=\"T_c7bf4_row7_col5\" class=\"data row7 col5\" >0.898698</td>\n",
       "      <td id=\"T_c7bf4_row7_col6\" class=\"data row7 col6\" >0.941259</td>\n",
       "      <td id=\"T_c7bf4_row7_col7\" class=\"data row7 col7\" >0.941608</td>\n",
       "    </tr>\n",
       "    <tr>\n",
       "      <th id=\"T_c7bf4_level0_row8\" class=\"row_heading level0 row8\" >accuracy_val</th>\n",
       "      <td id=\"T_c7bf4_row8_col0\" class=\"data row8 col0\" >0.746183</td>\n",
       "      <td id=\"T_c7bf4_row8_col1\" class=\"data row8 col1\" >0.780277</td>\n",
       "      <td id=\"T_c7bf4_row8_col2\" class=\"data row8 col2\" >0.804132</td>\n",
       "      <td id=\"T_c7bf4_row8_col3\" class=\"data row8 col3\" >0.802844</td>\n",
       "      <td id=\"T_c7bf4_row8_col4\" class=\"data row8 col4\" >0.882111</td>\n",
       "      <td id=\"T_c7bf4_row8_col5\" class=\"data row8 col5\" >0.862094</td>\n",
       "      <td id=\"T_c7bf4_row8_col6\" class=\"data row8 col6\" >0.798415</td>\n",
       "      <td id=\"T_c7bf4_row8_col7\" class=\"data row8 col7\" >0.802844</td>\n",
       "    </tr>\n",
       "    <tr>\n",
       "      <th id=\"T_c7bf4_level0_row9\" class=\"row_heading level0 row9\" >precision_val</th>\n",
       "      <td id=\"T_c7bf4_row9_col0\" class=\"data row9 col0\" >0.770535</td>\n",
       "      <td id=\"T_c7bf4_row9_col1\" class=\"data row9 col1\" >0.699487</td>\n",
       "      <td id=\"T_c7bf4_row9_col2\" class=\"data row9 col2\" >0.726555</td>\n",
       "      <td id=\"T_c7bf4_row9_col3\" class=\"data row9 col3\" >0.725743</td>\n",
       "      <td id=\"T_c7bf4_row9_col4\" class=\"data row9 col4\" >0.427678</td>\n",
       "      <td id=\"T_c7bf4_row9_col5\" class=\"data row9 col5\" >0.421598</td>\n",
       "      <td id=\"T_c7bf4_row9_col6\" class=\"data row9 col6\" >0.734964</td>\n",
       "      <td id=\"T_c7bf4_row9_col7\" class=\"data row9 col7\" >0.725743</td>\n",
       "    </tr>\n",
       "    <tr>\n",
       "      <th id=\"T_c7bf4_level0_row10\" class=\"row_heading level0 row10\" >recall_val</th>\n",
       "      <td id=\"T_c7bf4_row10_col0\" class=\"data row10 col0\" >0.507296</td>\n",
       "      <td id=\"T_c7bf4_row10_col1\" class=\"data row10 col1\" >0.585408</td>\n",
       "      <td id=\"T_c7bf4_row10_col2\" class=\"data row10 col2\" >0.631760</td>\n",
       "      <td id=\"T_c7bf4_row10_col3\" class=\"data row10 col3\" >0.629185</td>\n",
       "      <td id=\"T_c7bf4_row10_col4\" class=\"data row10 col4\" >0.880687</td>\n",
       "      <td id=\"T_c7bf4_row10_col5\" class=\"data row10 col5\" >0.837768</td>\n",
       "      <td id=\"T_c7bf4_row10_col6\" class=\"data row10 col6\" >0.618884</td>\n",
       "      <td id=\"T_c7bf4_row10_col7\" class=\"data row10 col7\" >0.629185</td>\n",
       "    </tr>\n",
       "    <tr>\n",
       "      <th id=\"T_c7bf4_level0_row11\" class=\"row_heading level0 row11\" >f1score_val</th>\n",
       "      <td id=\"T_c7bf4_row11_col0\" class=\"data row11 col0\" >0.611801</td>\n",
       "      <td id=\"T_c7bf4_row11_col1\" class=\"data row11 col1\" >0.637383</td>\n",
       "      <td id=\"T_c7bf4_row11_col2\" class=\"data row11 col2\" >0.675849</td>\n",
       "      <td id=\"T_c7bf4_row11_col3\" class=\"data row11 col3\" >0.674023</td>\n",
       "      <td id=\"T_c7bf4_row11_col4\" class=\"data row11 col4\" >0.575758</td>\n",
       "      <td id=\"T_c7bf4_row11_col5\" class=\"data row11 col5\" >0.560920</td>\n",
       "      <td id=\"T_c7bf4_row11_col6\" class=\"data row11 col6\" >0.671948</td>\n",
       "      <td id=\"T_c7bf4_row11_col7\" class=\"data row11 col7\" >0.674023</td>\n",
       "    </tr>\n",
       "    <tr>\n",
       "      <th id=\"T_c7bf4_level0_row12\" class=\"row_heading level0 row12\" >f1score_val_weighted</th>\n",
       "      <td id=\"T_c7bf4_row12_col0\" class=\"data row12 col0\" >0.790260</td>\n",
       "      <td id=\"T_c7bf4_row12_col1\" class=\"data row12 col1\" >0.802367</td>\n",
       "      <td id=\"T_c7bf4_row12_col2\" class=\"data row12 col2\" >0.823049</td>\n",
       "      <td id=\"T_c7bf4_row12_col3\" class=\"data row12 col3\" >0.822074</td>\n",
       "      <td id=\"T_c7bf4_row12_col4\" class=\"data row12 col4\" >0.754044</td>\n",
       "      <td id=\"T_c7bf4_row12_col5\" class=\"data row12 col5\" >0.746395</td>\n",
       "      <td id=\"T_c7bf4_row12_col6\" class=\"data row12 col6\" >0.821160</td>\n",
       "      <td id=\"T_c7bf4_row12_col7\" class=\"data row12 col7\" >0.822074</td>\n",
       "    </tr>\n",
       "    <tr>\n",
       "      <th id=\"T_c7bf4_level0_row13\" class=\"row_heading level0 row13\" >f1score_val_balanced</th>\n",
       "      <td id=\"T_c7bf4_row13_col0\" class=\"data row13 col0\" >0.936620</td>\n",
       "      <td id=\"T_c7bf4_row13_col1\" class=\"data row13 col1\" >0.937676</td>\n",
       "      <td id=\"T_c7bf4_row13_col2\" class=\"data row13 col2\" >0.943772</td>\n",
       "      <td id=\"T_c7bf4_row13_col3\" class=\"data row13 col3\" >0.943496</td>\n",
       "      <td id=\"T_c7bf4_row13_col4\" class=\"data row13 col4\" >0.900263</td>\n",
       "      <td id=\"T_c7bf4_row13_col5\" class=\"data row13 col5\" >0.898510</td>\n",
       "      <td id=\"T_c7bf4_row13_col6\" class=\"data row13 col6\" >0.943534</td>\n",
       "      <td id=\"T_c7bf4_row13_col7\" class=\"data row13 col7\" >0.943496</td>\n",
       "    </tr>\n",
       "  </tbody>\n",
       "</table>\n"
      ],
      "text/plain": [
       "<pandas.io.formats.style.Styler at 0x7113292294d0>"
      ]
     },
     "execution_count": 144,
     "metadata": {},
     "output_type": "execute_result"
    }
   ],
   "source": [
    "df_all_subset = pd.concat([pd.DataFrame(dict_roc_auc_scores_subset.values(), index=dict_roc_auc_scores_subset.keys()).T, df_results_subset])\n",
    "df_all_subset.style.highlight_max(axis='columns')"
   ]
  },
  {
   "cell_type": "code",
   "execution_count": 145,
   "metadata": {},
   "outputs": [
    {
     "data": {
      "text/plain": [
       "'Random Forest'"
      ]
     },
     "execution_count": 145,
     "metadata": {},
     "output_type": "execute_result"
    }
   ],
   "source": [
    "#highest roc auc\n",
    "df_all_subset.loc['roc_score_validation'].idxmax()"
   ]
  },
  {
   "cell_type": "markdown",
   "metadata": {},
   "source": [
    "# Preferred model to use = random forest\n"
   ]
  },
  {
   "cell_type": "code",
   "execution_count": 108,
   "metadata": {},
   "outputs": [
    {
     "data": {
      "text/plain": [
       "<DatetimeArray>\n",
       "['2020-04-30 00:00:00', '2020-04-29 00:00:00', '2020-04-28 00:00:00',\n",
       " '2020-04-27 00:00:00', '2020-04-26 00:00:00', '2020-04-25 00:00:00',\n",
       " '2020-04-24 00:00:00', '2020-04-23 00:00:00', '2020-04-22 00:00:00',\n",
       " '2020-04-21 00:00:00', '2020-04-20 00:00:00', '2020-04-19 00:00:00',\n",
       " '2020-04-18 00:00:00', '2020-04-17 00:00:00', '2020-04-16 00:00:00',\n",
       " '2020-04-15 00:00:00', '2020-04-14 00:00:00', '2020-04-13 00:00:00',\n",
       " '2020-04-12 00:00:00', '2020-04-11 00:00:00', '2020-04-10 00:00:00',\n",
       " '2020-04-09 00:00:00', '2020-04-08 00:00:00', '2020-04-07 00:00:00',\n",
       " '2020-04-06 00:00:00', '2020-04-05 00:00:00', '2020-04-04 00:00:00',\n",
       " '2020-04-03 00:00:00', '2020-04-02 00:00:00', '2020-04-01 00:00:00',\n",
       " '2020-03-31 00:00:00', '2020-03-30 00:00:00', '2020-03-29 00:00:00',\n",
       " '2020-03-28 00:00:00', '2020-03-27 00:00:00', '2020-03-26 00:00:00',\n",
       " '2020-03-25 00:00:00', '2020-03-24 00:00:00', '2020-03-23 00:00:00',\n",
       " '2020-03-22 00:00:00', '2020-03-21 00:00:00', '2020-03-20 00:00:00',\n",
       " '2020-03-19 00:00:00', '2020-03-18 00:00:00', '2020-03-17 00:00:00',\n",
       " '2020-03-16 00:00:00', '2020-03-15 00:00:00', '2020-03-14 00:00:00',\n",
       " '2020-03-13 00:00:00', '2020-03-12 00:00:00', '2020-03-11 00:00:00']\n",
       "Length: 51, dtype: datetime64[ns]"
      ]
     },
     "execution_count": 108,
     "metadata": {},
     "output_type": "execute_result"
    }
   ],
   "source": [
    "df_reload['test_date'].unique()"
   ]
  },
  {
   "cell_type": "code",
   "execution_count": 133,
   "metadata": {},
   "outputs": [
    {
     "name": "stderr",
     "output_type": "stream",
     "text": [
      "/tmp/ipykernel_30/1612843223.py:3: DtypeWarning: Columns (7) have mixed types. Specify dtype option on import or set low_memory=False.\n",
      "  df_reload = pd.read_csv(\"data/corona_tested_individuals_ver_006.english.csv\")\n"
     ]
    }
   ],
   "source": [
    "#get_data(df, train_start = '2020-03-21', test_start = '2020-03-31', test_end = '2020-04-07', source='paper'\n",
    "\n",
    "df_reload = pd.read_csv(\"data/corona_tested_individuals_ver_006.english.csv\")\n",
    "df_reload['test_date'] = pd.to_datetime(df_reload['test_date'])\n",
    "df_reload = df_reload[df_reload['corona_result'] != 'other']\n",
    "\n",
    "df_trainvalidation_extended, df_test_extended = get_data(df_reload,  source='not paper', train_end = '2020-04-23', test_end = '2020-04-30')"
   ]
  },
  {
   "cell_type": "code",
   "execution_count": 135,
   "metadata": {},
   "outputs": [
    {
     "name": "stderr",
     "output_type": "stream",
     "text": [
      "/tmp/ipykernel_30/660173315.py:2: SettingWithCopyWarning: \n",
      "A value is trying to be set on a copy of a slice from a DataFrame.\n",
      "Try using .loc[row_indexer,col_indexer] = value instead\n",
      "\n",
      "See the caveats in the documentation: https://pandas.pydata.org/pandas-docs/stable/user_guide/indexing.html#returning-a-view-versus-a-copy\n",
      "  df_trainvalidation_extended[target] = df_trainvalidation_extended[target].map(map_replace_target_labels)\n",
      "/tmp/ipykernel_30/660173315.py:3: SettingWithCopyWarning: \n",
      "A value is trying to be set on a copy of a slice from a DataFrame.\n",
      "Try using .loc[row_indexer,col_indexer] = value instead\n",
      "\n",
      "See the caveats in the documentation: https://pandas.pydata.org/pandas-docs/stable/user_guide/indexing.html#returning-a-view-versus-a-copy\n",
      "  df_test_extended[target] = df_test_extended[target].map(map_replace_target_labels)\n"
     ]
    }
   ],
   "source": [
    "map_replace_target_labels = {'positive': 1, 'negative': 0}\n",
    "df_trainvalidation_extended[target] = df_trainvalidation_extended[target].map(map_replace_target_labels)\n",
    "df_test_extended[target] = df_test_extended[target].map(map_replace_target_labels)\n",
    "\n",
    "X = df_trainvalidation_extended.drop(target, axis=1)\n",
    "y = df_trainvalidation_extended[target]\n",
    "X_train, X_validation, y_train, y_validation = train_test_split(X, y, random_state=123)\n",
    "\n",
    "X_test = df_test_extended.drop(target, axis=1)\n",
    "y_test = df_test_extended[target]\n"
   ]
  },
  {
   "cell_type": "code",
   "execution_count": 136,
   "metadata": {},
   "outputs": [],
   "source": [
    "#update preprocessor to handle nan / missing values\n",
    "from sklearn.impute import SimpleImputer\n",
    "imputer_simple = SimpleImputer(missing_values=np.nan, strategy='constant',fill_value = -1)\n",
    "\n",
    "\n",
    "preprocessor_three = ColumnTransformer(\n",
    "    transformers=[\n",
    "        #(\"num\", numeric_transformer, numerical_features),\n",
    "        (\"cat\", encoder_onehot, list_to_encode_subset),\n",
    "        (\"bool\", \"passthrough\", list_to_pass_to_model_subset),\n",
    "        #(\"time\", \"passthrough\", time_features),\n",
    "    ],\n",
    "    verbose_feature_names_out=False,\n",
    "    remainder = 'drop' #model will ignore date field\n",
    ")"
   ]
  },
  {
   "cell_type": "code",
   "execution_count": 139,
   "metadata": {},
   "outputs": [],
   "source": [
    "df_results_subset_fulldf, dict_confusion_matrixes_subset_fulldf, dict_roc_auc_scores_subset_fulldf = run_pipe(dict_models,\n",
    "             X_train, \n",
    "             y_train,\n",
    "             X_validation,\n",
    "             y_validation,\n",
    "             X_test,\n",
    "             y_test,\n",
    "            preprocessor_two,\n",
    "            imputer_simple                                                                                             \n",
    "            )"
   ]
  },
  {
   "cell_type": "code",
   "execution_count": 142,
   "metadata": {},
   "outputs": [
    {
     "data": {
      "text/html": [
       "<style type=\"text/css\">\n",
       "#T_6b8f8_row0_col4, #T_6b8f8_row1_col4, #T_6b8f8_row2_col4, #T_6b8f8_row3_col2, #T_6b8f8_row4_col4, #T_6b8f8_row5_col6, #T_6b8f8_row6_col6, #T_6b8f8_row7_col6, #T_6b8f8_row8_col4, #T_6b8f8_row9_col2, #T_6b8f8_row10_col4, #T_6b8f8_row11_col6, #T_6b8f8_row12_col6, #T_6b8f8_row13_col6 {\n",
       "  background-color: yellow;\n",
       "}\n",
       "</style>\n",
       "<table id=\"T_6b8f8\">\n",
       "  <thead>\n",
       "    <tr>\n",
       "      <th class=\"blank level0\" >&nbsp;</th>\n",
       "      <th id=\"T_6b8f8_level0_col0\" class=\"col_heading level0 col0\" >Logistic Regression</th>\n",
       "      <th id=\"T_6b8f8_level0_col1\" class=\"col_heading level0 col1\" >K-Nearest Neighbors</th>\n",
       "      <th id=\"T_6b8f8_level0_col2\" class=\"col_heading level0 col2\" >Support Vector Classifier (SVC)</th>\n",
       "      <th id=\"T_6b8f8_level0_col3\" class=\"col_heading level0 col3\" >Decision Tree</th>\n",
       "      <th id=\"T_6b8f8_level0_col4\" class=\"col_heading level0 col4\" >Random Forest</th>\n",
       "      <th id=\"T_6b8f8_level0_col5\" class=\"col_heading level0 col5\" >Gaussian Naive Bayes</th>\n",
       "      <th id=\"T_6b8f8_level0_col6\" class=\"col_heading level0 col6\" >Gradient Boosting</th>\n",
       "      <th id=\"T_6b8f8_level0_col7\" class=\"col_heading level0 col7\" >XGBoost</th>\n",
       "    </tr>\n",
       "  </thead>\n",
       "  <tbody>\n",
       "    <tr>\n",
       "      <th id=\"T_6b8f8_level0_row0\" class=\"row_heading level0 row0\" >roc_score</th>\n",
       "      <td id=\"T_6b8f8_row0_col0\" class=\"data row0 col0\" >0.549166</td>\n",
       "      <td id=\"T_6b8f8_row0_col1\" class=\"data row0 col1\" >0.743939</td>\n",
       "      <td id=\"T_6b8f8_row0_col2\" class=\"data row0 col2\" >0.763751</td>\n",
       "      <td id=\"T_6b8f8_row0_col3\" class=\"data row0 col3\" >0.766154</td>\n",
       "      <td id=\"T_6b8f8_row0_col4\" class=\"data row0 col4\" >0.771379</td>\n",
       "      <td id=\"T_6b8f8_row0_col5\" class=\"data row0 col5\" >0.763435</td>\n",
       "      <td id=\"T_6b8f8_row0_col6\" class=\"data row0 col6\" >0.763751</td>\n",
       "      <td id=\"T_6b8f8_row0_col7\" class=\"data row0 col7\" >0.766154</td>\n",
       "    </tr>\n",
       "    <tr>\n",
       "      <th id=\"T_6b8f8_level0_row1\" class=\"row_heading level0 row1\" >roc_score_validation</th>\n",
       "      <td id=\"T_6b8f8_row1_col0\" class=\"data row1 col0\" >0.711325</td>\n",
       "      <td id=\"T_6b8f8_row1_col1\" class=\"data row1 col1\" >0.743088</td>\n",
       "      <td id=\"T_6b8f8_row1_col2\" class=\"data row1 col2\" >0.731629</td>\n",
       "      <td id=\"T_6b8f8_row1_col3\" class=\"data row1 col3\" >0.731994</td>\n",
       "      <td id=\"T_6b8f8_row1_col4\" class=\"data row1 col4\" >0.843967</td>\n",
       "      <td id=\"T_6b8f8_row1_col5\" class=\"data row1 col5\" >0.811850</td>\n",
       "      <td id=\"T_6b8f8_row1_col6\" class=\"data row1 col6\" >0.741663</td>\n",
       "      <td id=\"T_6b8f8_row1_col7\" class=\"data row1 col7\" >0.731994</td>\n",
       "    </tr>\n",
       "    <tr>\n",
       "      <th id=\"T_6b8f8_level0_row2\" class=\"row_heading level0 row2\" >accuracy_train</th>\n",
       "      <td id=\"T_6b8f8_row2_col0\" class=\"data row2 col0\" >0.714169</td>\n",
       "      <td id=\"T_6b8f8_row2_col1\" class=\"data row2 col1\" >0.740829</td>\n",
       "      <td id=\"T_6b8f8_row2_col2\" class=\"data row2 col2\" >0.729563</td>\n",
       "      <td id=\"T_6b8f8_row2_col3\" class=\"data row2 col3\" >0.731132</td>\n",
       "      <td id=\"T_6b8f8_row2_col4\" class=\"data row2 col4\" >0.847059</td>\n",
       "      <td id=\"T_6b8f8_row2_col5\" class=\"data row2 col5\" >0.809340</td>\n",
       "      <td id=\"T_6b8f8_row2_col6\" class=\"data row2 col6\" >0.738155</td>\n",
       "      <td id=\"T_6b8f8_row2_col7\" class=\"data row2 col7\" >0.731029</td>\n",
       "    </tr>\n",
       "    <tr>\n",
       "      <th id=\"T_6b8f8_level0_row3\" class=\"row_heading level0 row3\" >precision_train</th>\n",
       "      <td id=\"T_6b8f8_row3_col0\" class=\"data row3 col0\" >0.699212</td>\n",
       "      <td id=\"T_6b8f8_row3_col1\" class=\"data row3 col1\" >0.688972</td>\n",
       "      <td id=\"T_6b8f8_row3_col2\" class=\"data row3 col2\" >0.740306</td>\n",
       "      <td id=\"T_6b8f8_row3_col3\" class=\"data row3 col3\" >0.738541</td>\n",
       "      <td id=\"T_6b8f8_row3_col4\" class=\"data row3 col4\" >0.337726</td>\n",
       "      <td id=\"T_6b8f8_row3_col5\" class=\"data row3 col5\" >0.311584</td>\n",
       "      <td id=\"T_6b8f8_row3_col6\" class=\"data row3 col6\" >0.726238</td>\n",
       "      <td id=\"T_6b8f8_row3_col7\" class=\"data row3 col7\" >0.738457</td>\n",
       "    </tr>\n",
       "    <tr>\n",
       "      <th id=\"T_6b8f8_level0_row4\" class=\"row_heading level0 row4\" >recall_train</th>\n",
       "      <td id=\"T_6b8f8_row4_col0\" class=\"data row4 col0\" >0.440231</td>\n",
       "      <td id=\"T_6b8f8_row4_col1\" class=\"data row4 col1\" >0.495712</td>\n",
       "      <td id=\"T_6b8f8_row4_col2\" class=\"data row4 col2\" >0.469470</td>\n",
       "      <td id=\"T_6b8f8_row4_col3\" class=\"data row4 col3\" >0.472776</td>\n",
       "      <td id=\"T_6b8f8_row4_col4\" class=\"data row4 col4\" >0.791611</td>\n",
       "      <td id=\"T_6b8f8_row4_col5\" class=\"data row4 col5\" >0.718359</td>\n",
       "      <td id=\"T_6b8f8_row4_col6\" class=\"data row4 col6\" >0.487860</td>\n",
       "      <td id=\"T_6b8f8_row4_col7\" class=\"data row4 col7\" >0.472569</td>\n",
       "    </tr>\n",
       "    <tr>\n",
       "      <th id=\"T_6b8f8_level0_row5\" class=\"row_heading level0 row5\" >f1score_train</th>\n",
       "      <td id=\"T_6b8f8_row5_col0\" class=\"data row5 col0\" >0.540290</td>\n",
       "      <td id=\"T_6b8f8_row5_col1\" class=\"data row5 col1\" >0.576579</td>\n",
       "      <td id=\"T_6b8f8_row5_col2\" class=\"data row5 col2\" >0.574572</td>\n",
       "      <td id=\"T_6b8f8_row5_col3\" class=\"data row5 col3\" >0.576504</td>\n",
       "      <td id=\"T_6b8f8_row5_col4\" class=\"data row5 col4\" >0.473460</td>\n",
       "      <td id=\"T_6b8f8_row5_col5\" class=\"data row5 col5\" >0.434644</td>\n",
       "      <td id=\"T_6b8f8_row5_col6\" class=\"data row5 col6\" >0.583647</td>\n",
       "      <td id=\"T_6b8f8_row5_col7\" class=\"data row5 col7\" >0.576325</td>\n",
       "    </tr>\n",
       "    <tr>\n",
       "      <th id=\"T_6b8f8_level0_row6\" class=\"row_heading level0 row6\" >f1score_train_weighted</th>\n",
       "      <td id=\"T_6b8f8_row6_col0\" class=\"data row6 col0\" >0.758518</td>\n",
       "      <td id=\"T_6b8f8_row6_col1\" class=\"data row6 col1\" >0.776958</td>\n",
       "      <td id=\"T_6b8f8_row6_col2\" class=\"data row6 col2\" >0.776494</td>\n",
       "      <td id=\"T_6b8f8_row6_col3\" class=\"data row6 col3\" >0.777468</td>\n",
       "      <td id=\"T_6b8f8_row6_col4\" class=\"data row6 col4\" >0.707867</td>\n",
       "      <td id=\"T_6b8f8_row6_col5\" class=\"data row6 col5\" >0.686726</td>\n",
       "      <td id=\"T_6b8f8_row6_col6\" class=\"data row6 col6\" >0.781007</td>\n",
       "      <td id=\"T_6b8f8_row6_col7\" class=\"data row6 col7\" >0.777375</td>\n",
       "    </tr>\n",
       "    <tr>\n",
       "      <th id=\"T_6b8f8_level0_row7\" class=\"row_heading level0 row7\" >f1score_train_balanced</th>\n",
       "      <td id=\"T_6b8f8_row7_col0\" class=\"data row7 col0\" >0.950954</td>\n",
       "      <td id=\"T_6b8f8_row7_col1\" class=\"data row7 col1\" >0.953655</td>\n",
       "      <td id=\"T_6b8f8_row7_col2\" class=\"data row7 col2\" >0.954552</td>\n",
       "      <td id=\"T_6b8f8_row7_col3\" class=\"data row7 col3\" >0.954681</td>\n",
       "      <td id=\"T_6b8f8_row7_col4\" class=\"data row7 col4\" >0.914570</td>\n",
       "      <td id=\"T_6b8f8_row7_col5\" class=\"data row7 col5\" >0.909015</td>\n",
       "      <td id=\"T_6b8f8_row7_col6\" class=\"data row7 col6\" >0.955041</td>\n",
       "      <td id=\"T_6b8f8_row7_col7\" class=\"data row7 col7\" >0.954664</td>\n",
       "    </tr>\n",
       "    <tr>\n",
       "      <th id=\"T_6b8f8_level0_row8\" class=\"row_heading level0 row8\" >accuracy_val</th>\n",
       "      <td id=\"T_6b8f8_row8_col0\" class=\"data row8 col0\" >0.711325</td>\n",
       "      <td id=\"T_6b8f8_row8_col1\" class=\"data row8 col1\" >0.743088</td>\n",
       "      <td id=\"T_6b8f8_row8_col2\" class=\"data row8 col2\" >0.731629</td>\n",
       "      <td id=\"T_6b8f8_row8_col3\" class=\"data row8 col3\" >0.731994</td>\n",
       "      <td id=\"T_6b8f8_row8_col4\" class=\"data row8 col4\" >0.843967</td>\n",
       "      <td id=\"T_6b8f8_row8_col5\" class=\"data row8 col5\" >0.811850</td>\n",
       "      <td id=\"T_6b8f8_row8_col6\" class=\"data row8 col6\" >0.741663</td>\n",
       "      <td id=\"T_6b8f8_row8_col7\" class=\"data row8 col7\" >0.731994</td>\n",
       "    </tr>\n",
       "    <tr>\n",
       "      <th id=\"T_6b8f8_level0_row9\" class=\"row_heading level0 row9\" >precision_val</th>\n",
       "      <td id=\"T_6b8f8_row9_col0\" class=\"data row9 col0\" >0.686226</td>\n",
       "      <td id=\"T_6b8f8_row9_col1\" class=\"data row9 col1\" >0.688205</td>\n",
       "      <td id=\"T_6b8f8_row9_col2\" class=\"data row9 col2\" >0.742829</td>\n",
       "      <td id=\"T_6b8f8_row9_col3\" class=\"data row9 col3\" >0.739194</td>\n",
       "      <td id=\"T_6b8f8_row9_col4\" class=\"data row9 col4\" >0.329029</td>\n",
       "      <td id=\"T_6b8f8_row9_col5\" class=\"data row9 col5\" >0.310620</td>\n",
       "      <td id=\"T_6b8f8_row9_col6\" class=\"data row9 col6\" >0.726852</td>\n",
       "      <td id=\"T_6b8f8_row9_col7\" class=\"data row9 col7\" >0.739194</td>\n",
       "    </tr>\n",
       "    <tr>\n",
       "      <th id=\"T_6b8f8_level0_row10\" class=\"row_heading level0 row10\" >recall_val</th>\n",
       "      <td id=\"T_6b8f8_row10_col0\" class=\"data row10 col0\" >0.434920</td>\n",
       "      <td id=\"T_6b8f8_row10_col1\" class=\"data row10 col1\" >0.500158</td>\n",
       "      <td id=\"T_6b8f8_row10_col2\" class=\"data row10 col2\" >0.473369</td>\n",
       "      <td id=\"T_6b8f8_row10_col3\" class=\"data row10 col3\" >0.474315</td>\n",
       "      <td id=\"T_6b8f8_row10_col4\" class=\"data row10 col4\" >0.786952</td>\n",
       "      <td id=\"T_6b8f8_row10_col5\" class=\"data row10 col5\" >0.722660</td>\n",
       "      <td id=\"T_6b8f8_row10_col6\" class=\"data row10 col6\" >0.494800</td>\n",
       "      <td id=\"T_6b8f8_row10_col7\" class=\"data row10 col7\" >0.474315</td>\n",
       "    </tr>\n",
       "    <tr>\n",
       "      <th id=\"T_6b8f8_level0_row11\" class=\"row_heading level0 row11\" >f1score_val</th>\n",
       "      <td id=\"T_6b8f8_row11_col0\" class=\"data row11 col0\" >0.532407</td>\n",
       "      <td id=\"T_6b8f8_row11_col1\" class=\"data row11 col1\" >0.579303</td>\n",
       "      <td id=\"T_6b8f8_row11_col2\" class=\"data row11 col2\" >0.578248</td>\n",
       "      <td id=\"T_6b8f8_row11_col3\" class=\"data row11 col3\" >0.577846</td>\n",
       "      <td id=\"T_6b8f8_row11_col4\" class=\"data row11 col4\" >0.464040</td>\n",
       "      <td id=\"T_6b8f8_row11_col5\" class=\"data row11 col5\" >0.434486</td>\n",
       "      <td id=\"T_6b8f8_row11_col6\" class=\"data row11 col6\" >0.588787</td>\n",
       "      <td id=\"T_6b8f8_row11_col7\" class=\"data row11 col7\" >0.577846</td>\n",
       "    </tr>\n",
       "    <tr>\n",
       "      <th id=\"T_6b8f8_level0_row12\" class=\"row_heading level0 row12\" >f1score_val_weighted</th>\n",
       "      <td id=\"T_6b8f8_row12_col0\" class=\"data row12 col0\" >0.754551</td>\n",
       "      <td id=\"T_6b8f8_row12_col1\" class=\"data row12 col1\" >0.778539</td>\n",
       "      <td id=\"T_6b8f8_row12_col2\" class=\"data row12 col2\" >0.778591</td>\n",
       "      <td id=\"T_6b8f8_row12_col3\" class=\"data row12 col3\" >0.778350</td>\n",
       "      <td id=\"T_6b8f8_row12_col4\" class=\"data row12 col4\" >0.702721</td>\n",
       "      <td id=\"T_6b8f8_row12_col5\" class=\"data row12 col5\" >0.686987</td>\n",
       "      <td id=\"T_6b8f8_row12_col6\" class=\"data row12 col6\" >0.783836</td>\n",
       "      <td id=\"T_6b8f8_row12_col7\" class=\"data row12 col7\" >0.778350</td>\n",
       "    </tr>\n",
       "    <tr>\n",
       "      <th id=\"T_6b8f8_level0_row13\" class=\"row_heading level0 row13\" >f1score_val_balanced</th>\n",
       "      <td id=\"T_6b8f8_row13_col0\" class=\"data row13 col0\" >0.950875</td>\n",
       "      <td id=\"T_6b8f8_row13_col1\" class=\"data row13 col1\" >0.954619</td>\n",
       "      <td id=\"T_6b8f8_row13_col2\" class=\"data row13 col2\" >0.955647</td>\n",
       "      <td id=\"T_6b8f8_row13_col3\" class=\"data row13 col3\" >0.955548</td>\n",
       "      <td id=\"T_6b8f8_row13_col4\" class=\"data row13 col4\" >0.913660</td>\n",
       "      <td id=\"T_6b8f8_row13_col5\" class=\"data row13 col5\" >0.910139</td>\n",
       "      <td id=\"T_6b8f8_row13_col6\" class=\"data row13 col6\" >0.956215</td>\n",
       "      <td id=\"T_6b8f8_row13_col7\" class=\"data row13 col7\" >0.955548</td>\n",
       "    </tr>\n",
       "  </tbody>\n",
       "</table>\n"
      ],
      "text/plain": [
       "<pandas.io.formats.style.Styler at 0x71133a3683d0>"
      ]
     },
     "execution_count": 142,
     "metadata": {},
     "output_type": "execute_result"
    }
   ],
   "source": [
    "df_all_subset_fulldf = pd.concat([pd.DataFrame(dict_roc_auc_scores_subset_fulldf.values(), index=dict_roc_auc_scores_subset_fulldf.keys()).T, df_results_subset_fulldf])\n",
    "df_all_subset_fulldf.style.highlight_max(axis='columns')"
   ]
  },
  {
   "cell_type": "code",
   "execution_count": 141,
   "metadata": {},
   "outputs": [
    {
     "data": {
      "text/plain": [
       "'Random Forest'"
      ]
     },
     "execution_count": 141,
     "metadata": {},
     "output_type": "execute_result"
    }
   ],
   "source": [
    "#highest roc auc\n",
    "df_all_subset_fulldf.loc['roc_score_validation'].idxmax()"
   ]
  },
  {
   "cell_type": "markdown",
   "metadata": {},
   "source": [
    "# Random Forest model"
   ]
  },
  {
   "cell_type": "code",
   "execution_count": 147,
   "metadata": {},
   "outputs": [],
   "source": [
    "dict_models_rf = {\n",
    "        \"Random Forest\": RandomForestClassifier(\n",
    "        class_weight = 'balanced', \n",
    "        random_state = 123, \n",
    "        max_depth = 10\n",
    "    )\n",
    "}"
   ]
  },
  {
   "cell_type": "code",
   "execution_count": 154,
   "metadata": {},
   "outputs": [],
   "source": [
    "df_results_subset_fulldf_rf, dict_confusion_matrixes_subset_fulldf_rf, dict_roc_auc_scores_subset_fulldf_rf, dict_pipeline_rf = run_pipe(\n",
    "            dict_models_rf,\n",
    "             X_train, \n",
    "             y_train,\n",
    "             X_validation,\n",
    "             y_validation,\n",
    "             X_test,\n",
    "             y_test,\n",
    "            preprocessor_two,\n",
    "            imputer_simple                                                                                             \n",
    "            )"
   ]
  },
  {
   "cell_type": "code",
   "execution_count": 155,
   "metadata": {},
   "outputs": [
    {
     "data": {
      "text/html": [
       "<style type=\"text/css\">\n",
       "#T_9c467_row0_col0, #T_9c467_row1_col0, #T_9c467_row2_col0, #T_9c467_row3_col0, #T_9c467_row4_col0, #T_9c467_row5_col0, #T_9c467_row6_col0, #T_9c467_row7_col0, #T_9c467_row8_col0, #T_9c467_row9_col0, #T_9c467_row10_col0, #T_9c467_row11_col0, #T_9c467_row12_col0, #T_9c467_row13_col0 {\n",
       "  background-color: yellow;\n",
       "}\n",
       "</style>\n",
       "<table id=\"T_9c467\">\n",
       "  <thead>\n",
       "    <tr>\n",
       "      <th class=\"blank level0\" >&nbsp;</th>\n",
       "      <th id=\"T_9c467_level0_col0\" class=\"col_heading level0 col0\" >Random Forest</th>\n",
       "    </tr>\n",
       "  </thead>\n",
       "  <tbody>\n",
       "    <tr>\n",
       "      <th id=\"T_9c467_level0_row0\" class=\"row_heading level0 row0\" >roc_score</th>\n",
       "      <td id=\"T_9c467_row0_col0\" class=\"data row0 col0\" >0.771379</td>\n",
       "    </tr>\n",
       "    <tr>\n",
       "      <th id=\"T_9c467_level0_row1\" class=\"row_heading level0 row1\" >roc_score_validation</th>\n",
       "      <td id=\"T_9c467_row1_col0\" class=\"data row1 col0\" >0.843967</td>\n",
       "    </tr>\n",
       "    <tr>\n",
       "      <th id=\"T_9c467_level0_row2\" class=\"row_heading level0 row2\" >accuracy_train</th>\n",
       "      <td id=\"T_9c467_row2_col0\" class=\"data row2 col0\" >0.847059</td>\n",
       "    </tr>\n",
       "    <tr>\n",
       "      <th id=\"T_9c467_level0_row3\" class=\"row_heading level0 row3\" >precision_train</th>\n",
       "      <td id=\"T_9c467_row3_col0\" class=\"data row3 col0\" >0.337726</td>\n",
       "    </tr>\n",
       "    <tr>\n",
       "      <th id=\"T_9c467_level0_row4\" class=\"row_heading level0 row4\" >recall_train</th>\n",
       "      <td id=\"T_9c467_row4_col0\" class=\"data row4 col0\" >0.791611</td>\n",
       "    </tr>\n",
       "    <tr>\n",
       "      <th id=\"T_9c467_level0_row5\" class=\"row_heading level0 row5\" >f1score_train</th>\n",
       "      <td id=\"T_9c467_row5_col0\" class=\"data row5 col0\" >0.473460</td>\n",
       "    </tr>\n",
       "    <tr>\n",
       "      <th id=\"T_9c467_level0_row6\" class=\"row_heading level0 row6\" >f1score_train_weighted</th>\n",
       "      <td id=\"T_9c467_row6_col0\" class=\"data row6 col0\" >0.707867</td>\n",
       "    </tr>\n",
       "    <tr>\n",
       "      <th id=\"T_9c467_level0_row7\" class=\"row_heading level0 row7\" >f1score_train_balanced</th>\n",
       "      <td id=\"T_9c467_row7_col0\" class=\"data row7 col0\" >0.914570</td>\n",
       "    </tr>\n",
       "    <tr>\n",
       "      <th id=\"T_9c467_level0_row8\" class=\"row_heading level0 row8\" >accuracy_val</th>\n",
       "      <td id=\"T_9c467_row8_col0\" class=\"data row8 col0\" >0.843967</td>\n",
       "    </tr>\n",
       "    <tr>\n",
       "      <th id=\"T_9c467_level0_row9\" class=\"row_heading level0 row9\" >precision_val</th>\n",
       "      <td id=\"T_9c467_row9_col0\" class=\"data row9 col0\" >0.329029</td>\n",
       "    </tr>\n",
       "    <tr>\n",
       "      <th id=\"T_9c467_level0_row10\" class=\"row_heading level0 row10\" >recall_val</th>\n",
       "      <td id=\"T_9c467_row10_col0\" class=\"data row10 col0\" >0.786952</td>\n",
       "    </tr>\n",
       "    <tr>\n",
       "      <th id=\"T_9c467_level0_row11\" class=\"row_heading level0 row11\" >f1score_val</th>\n",
       "      <td id=\"T_9c467_row11_col0\" class=\"data row11 col0\" >0.464040</td>\n",
       "    </tr>\n",
       "    <tr>\n",
       "      <th id=\"T_9c467_level0_row12\" class=\"row_heading level0 row12\" >f1score_val_weighted</th>\n",
       "      <td id=\"T_9c467_row12_col0\" class=\"data row12 col0\" >0.702721</td>\n",
       "    </tr>\n",
       "    <tr>\n",
       "      <th id=\"T_9c467_level0_row13\" class=\"row_heading level0 row13\" >f1score_val_balanced</th>\n",
       "      <td id=\"T_9c467_row13_col0\" class=\"data row13 col0\" >0.913660</td>\n",
       "    </tr>\n",
       "  </tbody>\n",
       "</table>\n"
      ],
      "text/plain": [
       "<pandas.io.formats.style.Styler at 0x71133d013c10>"
      ]
     },
     "execution_count": 155,
     "metadata": {},
     "output_type": "execute_result"
    }
   ],
   "source": [
    "df_results_subset_fulldf_rf = pd.concat([pd.DataFrame(dict_roc_auc_scores_subset_fulldf_rf.values(), index=dict_roc_auc_scores_subset_fulldf_rf.keys()).T, df_results_subset_fulldf_rf])\n",
    "df_results_subset_fulldf_rf.style.highlight_max(axis='columns')\n"
   ]
  },
  {
   "cell_type": "code",
   "execution_count": 217,
   "metadata": {
    "scrolled": true
   },
   "outputs": [
    {
     "data": {
      "text/plain": [
       "Text(0.5, 1.0, 'Random forest feature importances')"
      ]
     },
     "execution_count": 217,
     "metadata": {},
     "output_type": "execute_result"
    },
    {
     "data": {
      "image/png": "[encoded data removed]",
      "text/plain": [
       "<Figure size 640x480 with 1 Axes>"
      ]
     },
     "metadata": {},
     "output_type": "display_data"
    }
   ],
   "source": [
    "# Sort feature importances in descending order\n",
    "importances = rf_pipe.steps[2][1].feature_importances_\n",
    "indices = np.argsort(importances)[::-1]\n",
    " \n",
    "# Rearrange feature names so they match the sorted feature importances\n",
    "names = rf_pipe.named_steps['preprocessor'].get_feature_names_out() \n",
    "\n",
    "\n",
    "dict_importances = {\n",
    "    'names': names,\n",
    "    'importances': importances,\n",
    "}\n",
    "\n",
    "df_importances = pd.DataFrame(dict_importances).sort_values(by='importances', ascending=True)\n",
    "df_importances.plot(kind='barh')\n",
    "\n",
    "labels = list(df_importances['names'])\n",
    "ticklocations = [i for i in range(len(names))]\n",
    "\n",
    "plt.yticks(ticks= ticklocations, labels = labels);\n",
    "plt.legend(loc='lower right')\n",
    "plt.title('Random forest feature importances')"
   ]
  },
  {
   "cell_type": "markdown",
   "metadata": {},
   "source": [
    "## Precision Recall Plot"
   ]
  },
  {
   "cell_type": "code",
   "execution_count": 261,
   "metadata": {},
   "outputs": [
    {
     "data": {
      "text/plain": [
       "\"\\ndict_varying_threshold = {}\\nfor threshold in np.arange(0.1, 0.95, 0.05):\\n    \\n    custom_predictions = y_pred_proba_test >= threshold\\n    vary_threshold_precision_valid = precision_score(y_test, custom_predictions)\\n    vary_threshold_recall_valid = recall_score(y_test, custom_predictions)\\n\\n    temp_dict = {}\\n    temp_dict['vary_threshold_precision_valid'] = vary_threshold_precision_valid\\n    temp_dict['vary_threshold_recall_valid'] = vary_threshold_recall_valid\\n    dict_varying_thresholdp[threshold] = temp_dict\\n\""
      ]
     },
     "execution_count": 261,
     "metadata": {},
     "output_type": "execute_result"
    },
    {
     "data": {
      "image/png": "[encoded data removed]",
      "text/plain": [
       "<Figure size 640x480 with 1 Axes>"
      ]
     },
     "metadata": {},
     "output_type": "display_data"
    }
   ],
   "source": [
    "from sklearn.metrics import PrecisionRecallDisplay\n",
    "\n",
    "threshold = 0.5\n",
    "\n",
    "classifier = rf_pipe.steps[2][1]\n",
    "y_pred_proba_test = rf_pipe.predict_proba(X_test)[:,1]\n",
    "y_pred_test = y_pred_proba_test > threshold\n",
    "\n",
    "#validation\n",
    "y_pred_proba_validation = rf_pipe.predict_proba(X_validation)[:,1]\n",
    "y_pred_validation = y_pred_proba_validation > threshold\n",
    "\n",
    "from sklearn.metrics import precision_recall_curve\n",
    "precision, recall, thresholds = precision_recall_curve(y_validation, y_pred_proba_validation)\n",
    "plt.fill_between(recall, precision)\n",
    "plt.ylabel(\"Precision\")\n",
    "plt.xlabel(\"Recall\")\n",
    "plt.title(\"Validation Precision-Recall curve\");\n",
    "\n",
    "\"\"\"\n",
    "dict_varying_threshold = {}\n",
    "for threshold in np.arange(0.1, 0.95, 0.05):\n",
    "    \n",
    "    custom_predictions = y_pred_proba_test >= threshold\n",
    "    vary_threshold_precision_valid = precision_score(y_test, custom_predictions)\n",
    "    vary_threshold_recall_valid = recall_score(y_test, custom_predictions)\n",
    "\n",
    "    temp_dict = {}\n",
    "    temp_dict['vary_threshold_precision_valid'] = vary_threshold_precision_valid\n",
    "    temp_dict['vary_threshold_recall_valid'] = vary_threshold_recall_valid\n",
    "    dict_varying_thresholdp[threshold] = temp_dict\n",
    "\"\"\"\n"
   ]
  },
  {
   "cell_type": "markdown",
   "metadata": {},
   "source": [
    "# ROC AUC plot"
   ]
  },
  {
   "cell_type": "code",
   "execution_count": 265,
   "metadata": {},
   "outputs": [
    {
     "data": {
      "image/png": "[encoded data removed]",
      "text/plain": [
       "<Figure size 640x480 with 1 Axes>"
      ]
     },
     "metadata": {},
     "output_type": "display_data"
    }
   ],
   "source": [
    "from sklearn.metrics import roc_curve, auc\n",
    "\n",
    "# Calculate ROC curve\n",
    "fpr, tpr, thresholds = roc_curve(y_validation, y_pred_proba_validation) \n",
    "\n",
    "roc_auc = auc(fpr, tpr)\n",
    "\n",
    "# Plot the ROC curve\n",
    "\n",
    "plt.figure()  \n",
    "\n",
    "plt.plot(fpr, tpr, label='ROC curve (area = %0.2f)' % roc_auc)\n",
    "\n",
    "plt.plot([0, 1], [0, 1], 'k--', label='No Skill')\n",
    "\n",
    "plt.xlim([0.0, 1.0])\n",
    "\n",
    "plt.ylim([0.0, 1.05])\n",
    "\n",
    "plt.xlabel('False Positive Rate')\n",
    "\n",
    "plt.ylabel('True Positive Rate')\n",
    "\n",
    "plt.title('ROC Curve for positive covid test (full dataset)')\n",
    "\n",
    "plt.legend()\n",
    "\n",
    "plt.show()\n",
    " \n"
   ]
  },
  {
   "cell_type": "markdown",
   "metadata": {},
   "source": [
    "# Next steps"
   ]
  },
  {
   "cell_type": "markdown",
   "metadata": {},
   "source": [
    "**Wrapping up where we are at**\n",
    "* extend the data set in use, control for missing values by adjusting the pipeline accordingly (add imputer for cat and numerical features) , add simple imputer at end of the pipeline with -1 for missing values - DONE\n",
    "* partial dependency plots\n",
    "* once best model identified, visualise the feature importances, and / or SHAP values - ?\n",
    "\n",
    "* How will you select the threshold for your model above which model score will be interpreted as a prediction of positive diagnosis.\n",
    "\n",
    "**extras**\n",
    "* Dimensionality Reduction for fun: Can you reduce the dimension to just 2 dimensions and check if the inputs corresponding to different classes belong to different clusters? Try using t-SNE or UMAP for that purpose.\n",
    "* Collaborate with Ensemble: Can you combine other models?\n",
    "\n",
    "to include in slide:\n",
    "* degree of data lost through dropna - decision required as a group as to whether to include and impute, or, drop. not both. "
   ]
  },
  {
   "cell_type": "code",
   "execution_count": null,
   "metadata": {},
   "outputs": [],
   "source": []
  }
 ],
 "metadata": {
  "celltoolbar": "Tags",
  "kernelspec": {
   "display_name": "Python 3 (ipykernel)",
   "language": "python",
   "name": "python3"
  },
  "language_info": {
   "codemirror_mode": {
    "name": "ipython",
    "version": 3
   },
   "file_extension": ".py",
   "mimetype": "text/x-python",
   "name": "python",
   "nbconvert_exporter": "python",
   "pygments_lexer": "ipython3",
   "version": "3.11.13"
  }
 },
 "nbformat": 4,
 "nbformat_minor": 1
}

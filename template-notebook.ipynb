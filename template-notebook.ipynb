{
 "cells": [
  {
   "cell_type": "markdown",
   "metadata": {
    "slideshow": {
     "slide_type": "slide"
    }
   },
   "source": [
    "# Template notebook"
   ]
  },
  {
   "cell_type": "markdown",
   "metadata": {},
   "source": [
    "git repo: https://github.com/karamfr/edukate_hackathon"
   ]
  },
  {
   "cell_type": "markdown",
   "metadata": {
    "slideshow": {
     "slide_type": "slide"
    }
   },
   "source": [
    "It's good to start with an introduction, to set the scene and introduce your audience to the data, and the problem you're solving as a team.\n",
    "\n",
    "<br>\n",
    "\n",
    "## Libraries\n",
    "As always, we'll start by importing the necessary libraries."
   ]
  },
  {
   "cell_type": "code",
   "execution_count": 238,
   "metadata": {
    "slideshow": {
     "slide_type": "slide"
    }
   },
   "outputs": [],
   "source": [
    "# It's good practice to add comments to explain your code \n",
    "import numpy as np\n",
    "import pandas as pd\n",
    "import matplotlib.pyplot as plt\n",
    "import seaborn as sns"
   ]
  },
  {
   "cell_type": "markdown",
   "metadata": {},
   "source": [
    "## Functions"
   ]
  },
  {
   "cell_type": "code",
   "execution_count": 239,
   "metadata": {},
   "outputs": [],
   "source": [
    "def summarise_columns(input_df):\n",
    "    df_summary = pd.DataFrame(input_df.isnull().sum(),columns = ['null_count'])\n",
    "    df_summary['null_proportion'] = df_summary['null_count']/len(input_df)\n",
    "    df_summary['count_unique'] = input_df.nunique()\n",
    "    df_summary['data_type'] = input_df.dtypes\n",
    "    return df_summary\n",
    " \n",
    "#define a function to show different values for each column\n",
    " \n",
    "def value_counts_summary(input_df,factor_name,sort_index = False, max_levels = 1000):\n",
    "    #create \n",
    "    summary_df = pd.DataFrame(columns = ['count','proportion','cumul_proportion'])\n",
    " \n",
    "    if sort_index:\n",
    "        summary_df['count'] = input_df[factor_name].value_counts().sort_index()\n",
    "    else:\n",
    "        summary_df['count'] = input_df[factor_name].value_counts()\n",
    " \n",
    "    summary_df['proportion'] = summary_df['count']/len(input_df)\n",
    "    summary_df['cumul_proportion'] = summary_df['proportion'].cumsum()\n",
    "    summary_df.reset_index(inplace= True)\n",
    "    return summary_df[:min(max_levels,len(summary_df))]"
   ]
  },
  {
   "cell_type": "code",
   "execution_count": 303,
   "metadata": {},
   "outputs": [],
   "source": [
    "def get_data(df, train_start = '2020-03-21', test_start = '2020-03-31', test_end = '2020-04-07', source='paper'):\n",
    "    \"\"\"\n",
    "    Function to produce train-validation and test dfs\n",
    "    \"\"\"\n",
    "    df = df[df['corona_result'] != 'other']\n",
    "    \n",
    "    train_start = pd.to_datetime(train_start)\n",
    "    test_start = pd.to_datetime(train_start)\n",
    "    test_end = pd.to_datetime(train_start)\n",
    "    \n",
    "    if source == 'paper':\n",
    "        df_trainvalidation = df[df['test_date'].between('2020-03-21', '2020-03-31', 'right')]\n",
    "        df_test = df[df['test_date'].between('2020-03-31', '2020-04-07', 'right')]\n",
    "        return df_trainvalidation, df_test\n",
    "    else:\n",
    "        df_trainvalidation = df[df[train_start].between(train_start, test_start, 'right')]\n",
    "        df_test = df[df['test_date'].between(test_start, test_end, 'right')]\n",
    "    \n",
    "    return df_trainvalidation, df_test"
   ]
  },
  {
   "cell_type": "markdown",
   "metadata": {},
   "source": [
    "## Import data "
   ]
  },
  {
   "cell_type": "code",
   "execution_count": 241,
   "metadata": {},
   "outputs": [
    {
     "name": "stderr",
     "output_type": "stream",
     "text": [
      "/tmp/ipykernel_30/1990088523.py:1: DtypeWarning: Columns (7) have mixed types. Specify dtype option on import or set low_memory=False.\n",
      "  df = pd.read_csv(\"data/corona_tested_individuals_ver_006.english.csv\")\n"
     ]
    }
   ],
   "source": [
    "df = pd.read_csv(\"data/corona_tested_individuals_ver_006.english.csv\")"
   ]
  },
  {
   "cell_type": "markdown",
   "metadata": {},
   "source": [
    "## EDA"
   ]
  },
  {
   "cell_type": "code",
   "execution_count": 242,
   "metadata": {},
   "outputs": [
    {
     "data": {
      "text/plain": [
       "corona_result\n",
       "negative    0.933222\n",
       "positive    0.052821\n",
       "other       0.013957\n",
       "Name: proportion, dtype: float64"
      ]
     },
     "execution_count": 242,
     "metadata": {},
     "output_type": "execute_result"
    }
   ],
   "source": [
    "df['corona_result'].value_counts(normalize=True)"
   ]
  },
  {
   "cell_type": "code",
   "execution_count": 243,
   "metadata": {},
   "outputs": [
    {
     "data": {
      "text/plain": [
       "test_date               object\n",
       "cough                  float64\n",
       "fever                  float64\n",
       "sore_throat            float64\n",
       "shortness_of_breath    float64\n",
       "head_ache              float64\n",
       "corona_result           object\n",
       "age_60_and_above        object\n",
       "gender                  object\n",
       "test_indication         object\n",
       "dtype: object"
      ]
     },
     "execution_count": 243,
     "metadata": {},
     "output_type": "execute_result"
    }
   ],
   "source": [
    "num_rows = df.shape[0]\n",
    "num_features = df.shape[1]\n",
    "\n",
    "df.dtypes"
   ]
  },
  {
   "cell_type": "code",
   "execution_count": 244,
   "metadata": {},
   "outputs": [],
   "source": [
    "# filter data to a subset to mirror the date range\n",
    "df['test_date'] = pd.to_datetime(df['test_date'])\n"
   ]
  },
  {
   "cell_type": "code",
   "execution_count": 245,
   "metadata": {},
   "outputs": [
    {
     "data": {
      "text/html": [
       "<div>\n",
       "<style scoped>\n",
       "    .dataframe tbody tr th:only-of-type {\n",
       "        vertical-align: middle;\n",
       "    }\n",
       "\n",
       "    .dataframe tbody tr th {\n",
       "        vertical-align: top;\n",
       "    }\n",
       "\n",
       "    .dataframe thead th {\n",
       "        text-align: right;\n",
       "    }\n",
       "</style>\n",
       "<table border=\"1\" class=\"dataframe\">\n",
       "  <thead>\n",
       "    <tr style=\"text-align: right;\">\n",
       "      <th></th>\n",
       "      <th>test_date</th>\n",
       "      <th>count</th>\n",
       "      <th>proportion</th>\n",
       "      <th>cumul_proportion</th>\n",
       "    </tr>\n",
       "  </thead>\n",
       "  <tbody>\n",
       "    <tr>\n",
       "      <th>0</th>\n",
       "      <td>2020-04-01</td>\n",
       "      <td>8654</td>\n",
       "      <td>0.177068</td>\n",
       "      <td>0.177068</td>\n",
       "    </tr>\n",
       "    <tr>\n",
       "      <th>1</th>\n",
       "      <td>2020-04-02</td>\n",
       "      <td>8188</td>\n",
       "      <td>0.167533</td>\n",
       "      <td>0.344600</td>\n",
       "    </tr>\n",
       "    <tr>\n",
       "      <th>2</th>\n",
       "      <td>2020-04-03</td>\n",
       "      <td>8079</td>\n",
       "      <td>0.165303</td>\n",
       "      <td>0.509903</td>\n",
       "    </tr>\n",
       "    <tr>\n",
       "      <th>3</th>\n",
       "      <td>2020-04-04</td>\n",
       "      <td>5145</td>\n",
       "      <td>0.105271</td>\n",
       "      <td>0.615174</td>\n",
       "    </tr>\n",
       "    <tr>\n",
       "      <th>4</th>\n",
       "      <td>2020-04-05</td>\n",
       "      <td>7509</td>\n",
       "      <td>0.153640</td>\n",
       "      <td>0.768814</td>\n",
       "    </tr>\n",
       "    <tr>\n",
       "      <th>5</th>\n",
       "      <td>2020-04-06</td>\n",
       "      <td>5368</td>\n",
       "      <td>0.109833</td>\n",
       "      <td>0.878647</td>\n",
       "    </tr>\n",
       "    <tr>\n",
       "      <th>6</th>\n",
       "      <td>2020-04-07</td>\n",
       "      <td>5931</td>\n",
       "      <td>0.121353</td>\n",
       "      <td>1.000000</td>\n",
       "    </tr>\n",
       "  </tbody>\n",
       "</table>\n",
       "</div>"
      ],
      "text/plain": [
       "   test_date  count  proportion  cumul_proportion\n",
       "0 2020-04-01   8654    0.177068          0.177068\n",
       "1 2020-04-02   8188    0.167533          0.344600\n",
       "2 2020-04-03   8079    0.165303          0.509903\n",
       "3 2020-04-04   5145    0.105271          0.615174\n",
       "4 2020-04-05   7509    0.153640          0.768814\n",
       "5 2020-04-06   5368    0.109833          0.878647\n",
       "6 2020-04-07   5931    0.121353          1.000000"
      ]
     },
     "execution_count": 245,
     "metadata": {},
     "output_type": "execute_result"
    }
   ],
   "source": [
    "df_paper_train = df[df['test_date'].between('2020-03-21', '2020-03-31', 'right')]\n",
    "df_paper_test = df[df['test_date'].between('2020-03-31', '2020-04-07', 'right')]\n",
    "\n",
    "value_counts_summary(df_paper_test, 'test_date', sort_index=True)"
   ]
  },
  {
   "cell_type": "code",
   "execution_count": 246,
   "metadata": {},
   "outputs": [
    {
     "name": "stdout",
     "output_type": "stream",
     "text": [
      "Shape of train-validation date range used in paper (53843, 10)\n",
      "Shape of test date range used in paper (48874, 10)\n",
      "records in train validation quoted in paper: 51,831\n",
      "Shape of train-validation quoted in paper 47,401\n"
     ]
    }
   ],
   "source": [
    "print(f\"Shape of train-validation date range used in paper {df_paper_train.shape}\")\n",
    "print(f\"Shape of test date range used in paper {df_paper_test.shape}\")\n",
    "print(f\"records in train validation quoted in paper: 51,831\")\n",
    "print(f\"Shape of train-validation quoted in paper 47,401\")"
   ]
  },
  {
   "cell_type": "code",
   "execution_count": 247,
   "metadata": {
    "scrolled": true
   },
   "outputs": [
    {
     "data": {
      "text/plain": [
       "<Axes: >"
      ]
     },
     "execution_count": 247,
     "metadata": {},
     "output_type": "execute_result"
    },
    {
     "data": {
      "image/png": "[encoded data removed]",
      "text/plain": [
       "<Figure size 640x480 with 1 Axes>"
      ]
     },
     "metadata": {},
     "output_type": "display_data"
    }
   ],
   "source": [
    "df_missing_values = pd.DataFrame(round(df.isna().sum() / num_rows * 100,2))\n",
    "df_missing_values.rename(columns={0: 'pct missing'}, inplace=True)\n",
    "df_missing_values.sort_values(by='pct missing', ascending=False, inplace=True)\n",
    "df_missing_values.plot(kind='bar')"
   ]
  },
  {
   "cell_type": "markdown",
   "metadata": {
    "slideshow": {
     "slide_type": "slide"
    }
   },
   "source": [
    "**Question / Task 1**\n",
    "\n",
    "Think about possible biases and limitations of this dataset. What are the sources of uncertainty?"
   ]
  },
  {
   "cell_type": "code",
   "execution_count": 248,
   "metadata": {
    "slideshow": {
     "slide_type": "slide"
    }
   },
   "outputs": [],
   "source": [
    "# Add your code here\n"
   ]
  },
  {
   "cell_type": "markdown",
   "metadata": {},
   "source": [
    "**Question / Task 2**\n",
    "\n",
    "What is the format of feature values?"
   ]
  },
  {
   "cell_type": "code",
   "execution_count": 305,
   "metadata": {},
   "outputs": [],
   "source": [
    "# get the train-validation and test sets\n",
    "df_trainvalidation, df_test = get_data(df, source='paper')\n",
    "df_combined = pd.concat([df_trainvalidation, df_test])\n"
   ]
  },
  {
   "cell_type": "code",
   "execution_count": 250,
   "metadata": {},
   "outputs": [
    {
     "data": {
      "text/plain": [
       "test_date              datetime64[ns]\n",
       "cough                         float64\n",
       "fever                         float64\n",
       "sore_throat                   float64\n",
       "shortness_of_breath           float64\n",
       "head_ache                     float64\n",
       "corona_result                  object\n",
       "age_60_and_above               object\n",
       "gender                         object\n",
       "test_indication                object\n",
       "dtype: object"
      ]
     },
     "execution_count": 250,
     "metadata": {},
     "output_type": "execute_result"
    }
   ],
   "source": [
    "df_trainvalidation.dtypes"
   ]
  },
  {
   "cell_type": "markdown",
   "metadata": {},
   "source": [
    "**Question / Task 3**\n",
    "\n",
    "What is the statistics of these feature values? How many symptoms are reported or not?"
   ]
  },
  {
   "cell_type": "code",
   "execution_count": 306,
   "metadata": {},
   "outputs": [
    {
     "data": {
      "text/html": [
       "<div>\n",
       "<style scoped>\n",
       "    .dataframe tbody tr th:only-of-type {\n",
       "        vertical-align: middle;\n",
       "    }\n",
       "\n",
       "    .dataframe tbody tr th {\n",
       "        vertical-align: top;\n",
       "    }\n",
       "\n",
       "    .dataframe thead th {\n",
       "        text-align: right;\n",
       "    }\n",
       "</style>\n",
       "<table border=\"1\" class=\"dataframe\">\n",
       "  <thead>\n",
       "    <tr style=\"text-align: right;\">\n",
       "      <th></th>\n",
       "      <th>corona_result</th>\n",
       "      <th>count</th>\n",
       "    </tr>\n",
       "  </thead>\n",
       "  <tbody>\n",
       "    <tr>\n",
       "      <th>0</th>\n",
       "      <td>negative</td>\n",
       "      <td>48225</td>\n",
       "    </tr>\n",
       "    <tr>\n",
       "      <th>1</th>\n",
       "      <td>positive</td>\n",
       "      <td>4795</td>\n",
       "    </tr>\n",
       "  </tbody>\n",
       "</table>\n",
       "</div>"
      ],
      "text/plain": [
       "  corona_result  count\n",
       "0      negative  48225\n",
       "1      positive   4795"
      ]
     },
     "execution_count": 306,
     "metadata": {},
     "output_type": "execute_result"
    }
   ],
   "source": [
    "pd.DataFrame(df_trainvalidation['corona_result'].value_counts()).reset_index()"
   ]
  },
  {
   "cell_type": "code",
   "execution_count": 252,
   "metadata": {},
   "outputs": [
    {
     "name": "stdout",
     "output_type": "stream",
     "text": [
      "                           test_date         cough         fever  \\\n",
      "count                          53843  53827.000000  53826.000000   \n",
      "mean   2020-03-26 23:27:19.098861824      0.149628      0.089065   \n",
      "min              2020-03-22 00:00:00      0.000000      0.000000   \n",
      "25%              2020-03-25 00:00:00      0.000000      0.000000   \n",
      "50%              2020-03-27 00:00:00      0.000000      0.000000   \n",
      "75%              2020-03-29 00:00:00      0.000000      0.000000   \n",
      "max              2020-03-31 00:00:00      1.000000      1.000000   \n",
      "std                              NaN      0.356709      0.284840   \n",
      "\n",
      "        sore_throat  shortness_of_breath     head_ache  \n",
      "count  53843.000000         53843.000000  53843.000000  \n",
      "mean       0.015267             0.012146      0.022194  \n",
      "min        0.000000             0.000000      0.000000  \n",
      "25%        0.000000             0.000000      0.000000  \n",
      "50%        0.000000             0.000000      0.000000  \n",
      "75%        0.000000             0.000000      0.000000  \n",
      "max        1.000000             1.000000      1.000000  \n",
      "std        0.122612             0.109540      0.147316  \n"
     ]
    }
   ],
   "source": [
    "print(df_trainvalidation.describe())"
   ]
  },
  {
   "cell_type": "markdown",
   "metadata": {},
   "source": [
    "**Question / Task 4**\n",
    "\n",
    "Which symptoms have a reporting bias, i.e., likely to be reported when the patient is COVID positive?"
   ]
  },
  {
   "cell_type": "code",
   "execution_count": null,
   "metadata": {},
   "outputs": [],
   "source": []
  },
  {
   "cell_type": "markdown",
   "metadata": {},
   "source": [
    "**Question / Task 5**\n",
    "\n",
    "How will the symptoms with reporting bias affect the model’s performance?"
   ]
  },
  {
   "cell_type": "code",
   "execution_count": null,
   "metadata": {},
   "outputs": [],
   "source": []
  },
  {
   "cell_type": "markdown",
   "metadata": {},
   "source": [
    "**Question / Task 6**\n",
    "\n",
    "Visualization: Draw the bar graph of features grouped by the target class?"
   ]
  },
  {
   "cell_type": "code",
   "execution_count": 253,
   "metadata": {},
   "outputs": [
    {
     "data": {
      "text/plain": [
       "['test_date',\n",
       " 'cough',\n",
       " 'fever',\n",
       " 'sore_throat',\n",
       " 'shortness_of_breath',\n",
       " 'head_ache',\n",
       " 'corona_result',\n",
       " 'age_60_and_above',\n",
       " 'gender',\n",
       " 'test_indication']"
      ]
     },
     "execution_count": 253,
     "metadata": {},
     "output_type": "execute_result"
    }
   ],
   "source": [
    "list(df_trainvalidation.columns)"
   ]
  },
  {
   "cell_type": "code",
   "execution_count": 255,
   "metadata": {},
   "outputs": [
    {
     "data": {
      "text/plain": [
       "Text(0.5, 1.0, 'Frequency count of corona result')"
      ]
     },
     "execution_count": 255,
     "metadata": {},
     "output_type": "execute_result"
    },
    {
     "data": {
      "image/png": "[encoded data removed]",
      "text/plain": [
       "<Figure size 640x480 with 1 Axes>"
      ]
     },
     "metadata": {},
     "output_type": "display_data"
    }
   ],
   "source": [
    "df_summary = df.corona_result.value_counts()\n",
    "df_summary.plot(kind='bar')\n",
    "plt.title('Frequency count of corona result')"
   ]
  },
  {
   "cell_type": "markdown",
   "metadata": {},
   "source": [
    "## remove na's and drop rows where target != positive or negative"
   ]
  },
  {
   "cell_type": "code",
   "execution_count": 257,
   "metadata": {},
   "outputs": [],
   "source": [
    "target = 'corona_result'\n"
   ]
  },
  {
   "cell_type": "markdown",
   "metadata": {},
   "source": [
    "remove the target labels that are neither \"positive\" or \"negative\""
   ]
  },
  {
   "cell_type": "code",
   "execution_count": 307,
   "metadata": {},
   "outputs": [],
   "source": [
    "#map target to binary\n",
    "map_replace_target_labels = {'positive': 1, 'negative': 0}\n",
    "df_trainvalidation[target] = df_trainvalidation[target].map(map_replace_target_labels)\n",
    "df_test[target] = df_test[target].map(map_replace_target_labels)"
   ]
  },
  {
   "cell_type": "markdown",
   "metadata": {},
   "source": [
    "## Create pipeline"
   ]
  },
  {
   "cell_type": "code",
   "execution_count": 259,
   "metadata": {},
   "outputs": [],
   "source": [
    "from sklearn.pipeline import Pipeline\n",
    "from sklearn.compose import ColumnTransformer \n",
    "\n",
    "from sklearn.preprocessing import LabelEncoder, StandardScaler\n",
    "from sklearn.linear_model import LogisticRegression\n",
    "from sklearn.pipeline import Pipeline\n",
    "from sklearn.model_selection import train_test_split\n",
    "from sklearn.metrics import accuracy_score\n",
    "from sklearn.preprocessing import OneHotEncoder\n",
    "\n",
    "from sklearn.tree import DecisionTreeClassifier\n",
    "#sklearn.pipeline.Pipeline(steps, *, transform_input=None, memory=None, verbose=False"
   ]
  },
  {
   "cell_type": "code",
   "execution_count": 308,
   "metadata": {},
   "outputs": [],
   "source": [
    "#features to one hot encode\n",
    "list_to_encode = ['test_indication', 'gender', 'age_60_and_above' ]\n",
    "\n",
    "#stuff to ignore and drop from the model\n",
    "list_to_passthrough = ['test_date']\n",
    "\n",
    "#already binary features\n",
    "list_to_pass_to_model = ['cough', 'fever', 'sore_throat', 'shortness_of_breath',\n",
    "       'head_ache']\n"
   ]
  },
  {
   "cell_type": "markdown",
   "metadata": {},
   "source": [
    "### Create X and y"
   ]
  },
  {
   "cell_type": "markdown",
   "metadata": {},
   "source": [
    "? replace with train_test_split"
   ]
  },
  {
   "cell_type": "code",
   "execution_count": 219,
   "metadata": {},
   "outputs": [],
   "source": [
    "\"\"\"\n",
    "#map age to binary\n",
    "age_map = {'No': 0, 'Yes': 1}\n",
    "df_trainvalidation['age_60_and_above'] = df_trainvalidation['age_60_and_above'].map(age_map)\n",
    "\n",
    "\n",
    "\"\"\""
   ]
  },
  {
   "cell_type": "code",
   "execution_count": 328,
   "metadata": {},
   "outputs": [],
   "source": [
    "\"\"\"\n",
    "df_trainvalidation.sort_values(by='test_date', inplace=True)\n",
    "df_test.sort_values(by='test_date', inplace=True)\n",
    "\n",
    "df_trainvalidation= df_trainvalidation.map()\n",
    "\"\"\"\n",
    "\n",
    "from sklearn.model_selection import train_test_split\n",
    "\n",
    "X = df_trainvalidation.drop(target, axis=1)\n",
    "y = df_trainvalidation[target]\n",
    "X_train, X_validation, y_train, y_validation = train_test_split(X, y, random_state=123)"
   ]
  },
  {
   "cell_type": "code",
   "execution_count": 329,
   "metadata": {},
   "outputs": [],
   "source": [
    "X_test = df_test.drop(target, axis=1)\n",
    "y_test = df_test[target]\n"
   ]
  },
  {
   "cell_type": "markdown",
   "metadata": {},
   "source": [
    "set up pre-processor pipeline"
   ]
  },
  {
   "cell_type": "code",
   "execution_count": 330,
   "metadata": {},
   "outputs": [],
   "source": [
    "encoder_onehot = OneHotEncoder(drop='if_binary', handle_unknown='ignore')\n",
    "\n",
    "preprocessor = ColumnTransformer(\n",
    "    transformers=[\n",
    "        #(\"num\", numeric_transformer, numerical_features),\n",
    "        (\"cat\", encoder_onehot, list_to_encode),\n",
    "        (\"bool\", \"passthrough\", list_to_pass_to_model),\n",
    "        #(\"time\", \"passthrough\", time_features),\n",
    "    ],\n",
    "    verbose_feature_names_out=False,\n",
    "    remainder = 'drop' #model will ignore date field\n",
    ")\n",
    "\n",
    "classifier = DecisionTreeClassifier()\n",
    "\n",
    "pipeline = Pipeline([\n",
    "    ('preprocessor', preprocessor), \n",
    "    ('clf', classifier)\n",
    "])\n"
   ]
  },
  {
   "cell_type": "code",
   "execution_count": 332,
   "metadata": {},
   "outputs": [],
   "source": [
    "\n",
    "X_train_transformed = pd.DataFrame(preprocessor.fit_transform(X_train),columns = preprocessor.get_feature_names_out())\n",
    "\n",
    "#X_train_transformed"
   ]
  },
  {
   "cell_type": "code",
   "execution_count": 337,
   "metadata": {},
   "outputs": [],
   "source": [
    "pipeline.fit(X_train, y_train)\n",
    "\n",
    "#ignoring validation\n",
    "\n",
    "y_validation_pred = pipeline.predict(X_validation)\n",
    "y_pred = pipeline.predict(X_train)\n",
    "y_pred_test = pipeline.predict(X_test)\n"
   ]
  },
  {
   "cell_type": "code",
   "execution_count": 334,
   "metadata": {},
   "outputs": [
    {
     "name": "stdout",
     "output_type": "stream",
     "text": [
      "\n",
      "Accuracy:\n",
      "Validation set = 0.9572236891738967, Training set = 0.9601156796177543\n",
      "\n",
      "Precision:\n",
      "Validation set = 0.8240740740740741, Training set = 0.8500347947112039\n",
      "\n",
      "Recall:\n",
      "Validation set = 0.6691729323308271, Training set = 0.6789883268482491\n",
      "\n",
      "F1 Score:\n",
      "Validation set = 0.7385892116182573, Training set = 0.7549443757725587\n"
     ]
    }
   ],
   "source": [
    "from sklearn.metrics import (\n",
    "    confusion_matrix,\n",
    "    accuracy_score,\n",
    "    precision_score,\n",
    "    recall_score,\n",
    "    f1_score\n",
    ")\n",
    "\n",
    "#train scores\n",
    "accuracy_train = accuracy_score(y_train, y_pred)\n",
    "precision_train = precision_score(y_train, y_pred)\n",
    "recall_train = recall_score(y_train, y_pred)\n",
    "f1score_train = f1_score(y_train, y_pred)\n",
    "\n",
    "#validation scores\n",
    "accuracy_val = accuracy_score(y_validation, y_validation_pred)\n",
    "precision_val = precision_score(y_validation, y_validation_pred)\n",
    "recall_val = recall_score(y_validation, y_validation_pred)\n",
    "f1score_val = f1_score(y_validation, y_validation_pred)\n",
    "\n",
    "print(f\"\\nAccuracy:\")\n",
    "print(f\"Validation set = {accuracy_val}, Training set = {accuracy_train}\")\n",
    "print(f\"\\nPrecision:\")\n",
    "print(f\"Validation set = {precision_val}, Training set = {precision_train}\")\n",
    "print(f\"\\nRecall:\")\n",
    "print(f\"Validation set = {recall_val}, Training set = {recall_train}\")\n",
    "print(f\"\\nF1 Score:\")\n",
    "print(f\"Validation set = {f1score_val}, Training set = {f1score_train}\")"
   ]
  },
  {
   "cell_type": "code",
   "execution_count": 335,
   "metadata": {},
   "outputs": [
    {
     "name": "stdout",
     "output_type": "stream",
     "text": [
      "              precision    recall  f1-score   support\n",
      "\n",
      "           0       0.97      0.99      0.98     12058\n",
      "           1       0.82      0.67      0.74      1197\n",
      "\n",
      "    accuracy                           0.96     13255\n",
      "   macro avg       0.90      0.83      0.86     13255\n",
      "weighted avg       0.95      0.96      0.96     13255\n",
      "\n"
     ]
    }
   ],
   "source": [
    "from sklearn.metrics import classification_report\n",
    "print(classification_report(y_validation, y_validation_pred))"
   ]
  },
  {
   "cell_type": "code",
   "execution_count": 341,
   "metadata": {},
   "outputs": [
    {
     "data": {
      "text/plain": [
       "0.8085919920431028"
      ]
     },
     "execution_count": 341,
     "metadata": {},
     "output_type": "execute_result"
    }
   ],
   "source": [
    "from sklearn.metrics import roc_auc_score\n",
    "roc_auc_score(y_test, y_pred_test)\n"
   ]
  },
  {
   "cell_type": "markdown",
   "metadata": {},
   "source": [
    "Trying other classifiers"
   ]
  },
  {
   "cell_type": "code",
   "execution_count": 369,
   "metadata": {},
   "outputs": [],
   "source": [
    "def run_pipe(dict_models,\n",
    "             X_train, \n",
    "             y_train,\n",
    "             X_validation,\n",
    "             y_validation,\n",
    "             X_test,\n",
    "             y_test             \n",
    "            ):\n",
    "    \n",
    "    dict_results = {}\n",
    "    dict_confusion_matrixes = {}\n",
    "    dict_roc_auc_scores = {}\n",
    "    \n",
    "    for model_name, model in dict_models.items():\n",
    "        pipeline = Pipeline([\n",
    "            ('preprocessor', preprocessor), \n",
    "            ('clf', model)\n",
    "        ])\n",
    "\n",
    "        pipeline.fit(X_train, y_train)\n",
    "\n",
    "        #ignoring validation\n",
    "\n",
    "        y_validation_pred = pipeline.predict(X_validation)\n",
    "        y_pred = pipeline.predict(X_train)\n",
    "        y_pred_test = pipeline.predict(X_test)\n",
    "\n",
    "        #train scores\n",
    "        accuracy_train = accuracy_score(y_train, y_pred)\n",
    "        precision_train = precision_score(y_train, y_pred)\n",
    "        recall_train = recall_score(y_train, y_pred)\n",
    "        f1score_train = f1_score(y_train, y_pred)\n",
    "\n",
    "        #validation scores\n",
    "        accuracy_val = accuracy_score(y_validation, y_validation_pred)\n",
    "        precision_val = precision_score(y_validation, y_validation_pred)\n",
    "        recall_val = recall_score(y_validation, y_validation_pred)\n",
    "        f1score_val = f1_score(y_validation, y_validation_pred)\n",
    "        \n",
    "        temp_results_dict = {}\n",
    "        temp_results_dict['accuracy_train'] = accuracy_train\n",
    "        temp_results_dict['precision_train'] = precision_train\n",
    "        temp_results_dict['recall_train'] = recall_train\n",
    "        temp_results_dict['f1score_train'] = f1score_train\n",
    "        temp_results_dict['accuracy_val'] = accuracy_val\n",
    "        temp_results_dict['precision_val'] = precision_val\n",
    "        temp_results_dict['recall_val'] = recall_val\n",
    "        temp_results_dict['f1score_val'] = f1score_val\n",
    "        \n",
    "        dict_results[model_name] = temp_results_dict\n",
    "        \n",
    "        conf_matrix = classification_report(y_validation, y_validation_pred)\n",
    "        dict_confusion_matrixes[model_name] = conf_matrix\n",
    "        \n",
    "        roc_score = roc_auc_score(y_test, y_pred_test)\n",
    "        dict_roc_auc_scores[model_name] = roc_score\n",
    "    \n",
    "    df_results = pd.DataFrame(dict_results)\n",
    "    \n",
    "    \n",
    "    return df_results, dict_confusion_matrixes, dict_roc_auc_scores"
   ]
  },
  {
   "cell_type": "code",
   "execution_count": 360,
   "metadata": {},
   "outputs": [],
   "source": [
    "from sklearn.ensemble import RandomForestClassifier\n",
    "from sklearn.linear_model import LogisticRegression\n",
    "from sklearn.svm import SVC\n",
    "from sklearn.linear_model import SGDClassifier\n",
    "\n",
    "import xgboost as xgb"
   ]
  },
  {
   "cell_type": "code",
   "execution_count": 362,
   "metadata": {},
   "outputs": [],
   "source": [
    "dict_models = {\n",
    "    'RandomForestClassifier': RandomForestClassifier(),\n",
    "    'DecisionTreeClassifier': DecisionTreeClassifier(),\n",
    "    'XGBoost': xgb.XGBClassifier()\n",
    "    }"
   ]
  },
  {
   "cell_type": "code",
   "execution_count": 370,
   "metadata": {},
   "outputs": [],
   "source": [
    "df_results, dict_results, dict_roc_auc_scores = run_pipe(dict_models,\n",
    "             X_train, \n",
    "             y_train,\n",
    "             X_validation,\n",
    "             y_validation,\n",
    "             X_test,\n",
    "             y_test             \n",
    "            )"
   ]
  },
  {
   "cell_type": "code",
   "execution_count": 382,
   "metadata": {},
   "outputs": [
    {
     "data": {
      "text/plain": [
       "(39765,)"
      ]
     },
     "execution_count": 382,
     "metadata": {},
     "output_type": "execute_result"
    }
   ],
   "source": [
    "y_train.shape"
   ]
  },
  {
   "cell_type": "code",
   "execution_count": 391,
   "metadata": {},
   "outputs": [
    {
     "data": {
      "text/plain": [
       "test_date\n",
       "2020-03-22    2629\n",
       "2020-03-23    2570\n",
       "2020-03-24    3537\n",
       "2020-03-25    4048\n",
       "2020-03-26    4787\n",
       "2020-03-27    4365\n",
       "2020-03-28    4080\n",
       "2020-03-29    3934\n",
       "2020-03-30    4445\n",
       "2020-03-31    5370\n",
       "Name: count, dtype: int64"
      ]
     },
     "execution_count": 391,
     "metadata": {},
     "output_type": "execute_result"
    }
   ],
   "source": [
    "X_train['test_date'].value_counts().sort_index()"
   ]
  },
  {
   "cell_type": "code",
   "execution_count": 392,
   "metadata": {},
   "outputs": [
    {
     "data": {
      "text/plain": [
       "test_date\n",
       "2020-03-22     899\n",
       "2020-03-23     875\n",
       "2020-03-24    1133\n",
       "2020-03-25    1363\n",
       "2020-03-26    1694\n",
       "2020-03-27    1444\n",
       "2020-03-28    1438\n",
       "2020-03-29    1282\n",
       "2020-03-30    1417\n",
       "2020-03-31    1710\n",
       "Name: count, dtype: int64"
      ]
     },
     "execution_count": 392,
     "metadata": {},
     "output_type": "execute_result"
    }
   ],
   "source": [
    "X_validation['test_date'].value_counts().sort_index()"
   ]
  },
  {
   "cell_type": "code",
   "execution_count": 393,
   "metadata": {},
   "outputs": [
    {
     "data": {
      "text/plain": [
       "test_date\n",
       "2020-04-01    8585\n",
       "2020-04-02    8107\n",
       "2020-04-03    7993\n",
       "2020-04-04    5088\n",
       "2020-04-05    7451\n",
       "2020-04-06    5341\n",
       "2020-04-07    5897\n",
       "Name: count, dtype: int64"
      ]
     },
     "execution_count": 393,
     "metadata": {},
     "output_type": "execute_result"
    }
   ],
   "source": [
    "X_test['test_date'].value_counts().sort_index()"
   ]
  },
  {
   "cell_type": "code",
   "execution_count": 367,
   "metadata": {},
   "outputs": [
    {
     "data": {
      "text/html": [
       "<div>\n",
       "<style scoped>\n",
       "    .dataframe tbody tr th:only-of-type {\n",
       "        vertical-align: middle;\n",
       "    }\n",
       "\n",
       "    .dataframe tbody tr th {\n",
       "        vertical-align: top;\n",
       "    }\n",
       "\n",
       "    .dataframe thead th {\n",
       "        text-align: right;\n",
       "    }\n",
       "</style>\n",
       "<table border=\"1\" class=\"dataframe\">\n",
       "  <thead>\n",
       "    <tr style=\"text-align: right;\">\n",
       "      <th></th>\n",
       "      <th>RandomForestClassifier</th>\n",
       "      <th>DecisionTreeClassifier</th>\n",
       "      <th>XGBoost</th>\n",
       "    </tr>\n",
       "  </thead>\n",
       "  <tbody>\n",
       "    <tr>\n",
       "      <th>accuracy_train</th>\n",
       "      <td>0.960116</td>\n",
       "      <td>0.960116</td>\n",
       "      <td>0.960040</td>\n",
       "    </tr>\n",
       "    <tr>\n",
       "      <th>precision_train</th>\n",
       "      <td>0.848097</td>\n",
       "      <td>0.850035</td>\n",
       "      <td>0.845783</td>\n",
       "    </tr>\n",
       "    <tr>\n",
       "      <th>recall_train</th>\n",
       "      <td>0.681212</td>\n",
       "      <td>0.678988</td>\n",
       "      <td>0.682879</td>\n",
       "    </tr>\n",
       "    <tr>\n",
       "      <th>f1score_train</th>\n",
       "      <td>0.755549</td>\n",
       "      <td>0.754944</td>\n",
       "      <td>0.755651</td>\n",
       "    </tr>\n",
       "    <tr>\n",
       "      <th>accuracy_val</th>\n",
       "      <td>0.957827</td>\n",
       "      <td>0.957224</td>\n",
       "      <td>0.957525</td>\n",
       "    </tr>\n",
       "    <tr>\n",
       "      <th>precision_val</th>\n",
       "      <td>0.826176</td>\n",
       "      <td>0.824074</td>\n",
       "      <td>0.824131</td>\n",
       "    </tr>\n",
       "    <tr>\n",
       "      <th>recall_val</th>\n",
       "      <td>0.675021</td>\n",
       "      <td>0.669173</td>\n",
       "      <td>0.673350</td>\n",
       "    </tr>\n",
       "    <tr>\n",
       "      <th>f1score_val</th>\n",
       "      <td>0.742989</td>\n",
       "      <td>0.738589</td>\n",
       "      <td>0.741149</td>\n",
       "    </tr>\n",
       "  </tbody>\n",
       "</table>\n",
       "</div>"
      ],
      "text/plain": [
       "                 RandomForestClassifier  DecisionTreeClassifier   XGBoost\n",
       "accuracy_train                 0.960116                0.960116  0.960040\n",
       "precision_train                0.848097                0.850035  0.845783\n",
       "recall_train                   0.681212                0.678988  0.682879\n",
       "f1score_train                  0.755549                0.754944  0.755651\n",
       "accuracy_val                   0.957827                0.957224  0.957525\n",
       "precision_val                  0.826176                0.824074  0.824131\n",
       "recall_val                     0.675021                0.669173  0.673350\n",
       "f1score_val                    0.742989                0.738589  0.741149"
      ]
     },
     "execution_count": 367,
     "metadata": {},
     "output_type": "execute_result"
    }
   ],
   "source": [
    "df_results"
   ]
  },
  {
   "cell_type": "code",
   "execution_count": 374,
   "metadata": {},
   "outputs": [
    {
     "name": "stdout",
     "output_type": "stream",
     "text": [
      "RandomForestClassifier\n",
      "              precision    recall  f1-score   support\n",
      "\n",
      "           0       0.97      0.99      0.98     12058\n",
      "           1       0.82      0.68      0.74      1197\n",
      "\n",
      "    accuracy                           0.96     13255\n",
      "   macro avg       0.90      0.83      0.86     13255\n",
      "weighted avg       0.96      0.96      0.96     13255\n",
      "\n",
      "\n",
      "\n",
      "DecisionTreeClassifier\n",
      "              precision    recall  f1-score   support\n",
      "\n",
      "           0       0.97      0.99      0.98     12058\n",
      "           1       0.82      0.67      0.74      1197\n",
      "\n",
      "    accuracy                           0.96     13255\n",
      "   macro avg       0.90      0.83      0.86     13255\n",
      "weighted avg       0.95      0.96      0.96     13255\n",
      "\n",
      "\n",
      "\n",
      "XGBoost\n",
      "              precision    recall  f1-score   support\n",
      "\n",
      "           0       0.97      0.99      0.98     12058\n",
      "           1       0.82      0.67      0.74      1197\n",
      "\n",
      "    accuracy                           0.96     13255\n",
      "   macro avg       0.90      0.83      0.86     13255\n",
      "weighted avg       0.96      0.96      0.96     13255\n",
      "\n",
      "\n",
      "\n"
     ]
    }
   ],
   "source": [
    "for model_name in dict_models.keys():\n",
    "    print(model_name)\n",
    "    print(dict_results[model_name])\n",
    "    print(\"\\n\")"
   ]
  },
  {
   "cell_type": "code",
   "execution_count": null,
   "metadata": {},
   "outputs": [],
   "source": []
  }
 ],
 "metadata": {
  "kernelspec": {
   "display_name": "Python 3 (ipykernel)",
   "language": "python",
   "name": "python3"
  },
  "language_info": {
   "codemirror_mode": {
    "name": "ipython",
    "version": 3
   },
   "file_extension": ".py",
   "mimetype": "text/x-python",
   "name": "python",
   "nbconvert_exporter": "python",
   "pygments_lexer": "ipython3",
   "version": "3.11.13"
  }
 },
 "nbformat": 4,
 "nbformat_minor": 1
}

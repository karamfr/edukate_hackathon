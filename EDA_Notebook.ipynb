{
 "cells": [
  {
   "cell_type": "markdown",
   "metadata": {
    "slideshow": {
     "slide_type": "slide"
    }
   },
   "source": [
    "# Template notebook"
   ]
  },
  {
   "cell_type": "markdown",
   "metadata": {
    "slideshow": {
     "slide_type": "slide"
    }
   },
   "source": [
    "It's good to start with an introduction, to set the scene and introduce your audience to the data, and the problem you're solving as a team.\n",
    "\n",
    "<br>\n",
    "\n",
    "## Libraries\n",
    "As always, we'll start by importing the necessary libraries."
   ]
  },
  {
   "cell_type": "code",
   "execution_count": 6,
   "metadata": {
    "slideshow": {
     "slide_type": "slide"
    }
   },
   "outputs": [],
   "source": [
    "# Import Packages\n",
    "import numpy as np\n",
    "import pandas as pd\n",
    "import matplotlib.pyplot as plt\n",
    "import seaborn as sns"
   ]
  },
  {
   "cell_type": "markdown",
   "metadata": {
    "slideshow": {
     "slide_type": "slide"
    }
   },
   "source": [
    "**Question / Task 1**\n",
    "\n",
    "Insert context about question / task 1 here."
   ]
  },
  {
   "cell_type": "code",
   "execution_count": 7,
   "metadata": {
    "slideshow": {
     "slide_type": "slide"
    }
   },
   "outputs": [],
   "source": [
    "# Read in the data for the hackathon\n",
    "\n",
    "df = pd.read_csv('data/corona_tested_individuals_ver_006.english.csv')\n",
    "\n",
    "#df = pd.read_csv(\"data/rental_data.csv\")"
   ]
  },
  {
   "cell_type": "code",
   "execution_count": 8,
   "metadata": {},
   "outputs": [],
   "source": [
    "df.head()"
   ]
  },
  {
   "cell_type": "code",
   "execution_count": 9,
   "metadata": {},
   "outputs": [],
   "source": [
    "#define a function to summarise columns for a given dataframe:\n",
    "\n",
    "def summarise_columns(input_df):\n",
    "    df_summary = pd.DataFrame(input_df.isnull().sum(),columns = ['null_count'])\n",
    "    df_summary['null_proportion'] = df_summary['null_count']/len(input_df)\n",
    "    df_summary['count_unique'] = input_df.nunique()\n",
    "    df_summary['data_type'] = input_df.dtypes\n",
    "    return df_summary\n",
    "\n",
    "#define a function to show different values for each column\n",
    "\n",
    "def value_counts_summary(input_df,factor_name,sort_index = False, max_levels = 1000):\n",
    "    #create \n",
    "    summary_df = pd.DataFrame(columns = ['count','proportion','cumul_proportion'])\n",
    "\n",
    "    if sort_index:\n",
    "        summary_df['count'] = input_df[factor_name].value_counts().sort_index()\n",
    "    else:\n",
    "        summary_df['count'] = input_df[factor_name].value_counts()\n",
    "\n",
    "    summary_df['proportion'] = summary_df['count']/len(input_df)\n",
    "    summary_df['cumul_proportion'] = summary_df['proportion'].cumsum()\n",
    "    summary_df.reset_index(inplace= True)\n",
    "    return summary_df[:min(max_levels,len(summary_df))]\n"
   ]
  },
  {
   "cell_type": "code",
   "execution_count": 10,
   "metadata": {},
   "outputs": [],
   "source": [
    "value_counts_summary(df,'age_60_and_above')"
   ]
  },
  {
   "cell_type": "code",
   "execution_count": 11,
   "metadata": {},
   "outputs": [],
   "source": [
    "summarise_columns(df)"
   ]
  },
  {
   "cell_type": "code",
   "execution_count": 12,
   "metadata": {},
   "outputs": [],
   "source": [
    "#look at time period for test_date\n",
    "#noticed that this spans a longer tie period than in paper (22nd March to 7th April)\n",
    "\n",
    "value_counts_summary(df,'test_date', sort_index = True)"
   ]
  },
  {
   "cell_type": "code",
   "execution_count": 13,
   "metadata": {},
   "outputs": [],
   "source": [
    "#convert test date to datetime\n",
    "\n",
    "df['test_date'] = pd.to_datetime(df['test_date'])"
   ]
  },
  {
   "cell_type": "code",
   "execution_count": 14,
   "metadata": {},
   "outputs": [],
   "source": [
    "list_columns = df.columns.to_list()"
   ]
  },
  {
   "cell_type": "code",
   "execution_count": 15,
   "metadata": {},
   "outputs": [],
   "source": [
    "for column in list_columns:\n",
    "    print(column)\n",
    "    print(value_counts_summary(df,column, sort_index = True))\n",
    "    print('-'*20)"
   ]
  },
  {
   "cell_type": "code",
   "execution_count": 16,
   "metadata": {},
   "outputs": [],
   "source": [
    "#create dataframes that match those used in the paper\n",
    "df_paper_pre_train = df[df['test_date']<'2020-03-22']\n",
    "df_paper_train = df[df['test_date'].between('2020-03-21','2020-03-31','right')]\n",
    "df_paper_test = df[df['test_date'].between('2020-03-31','2020-04-07','right')]\n",
    "df_paper_post_test = df[df['test_date']>'2020-04-07']\n"
   ]
  },
  {
   "cell_type": "code",
   "execution_count": 17,
   "metadata": {},
   "outputs": [],
   "source": [
    "value_counts_summary(df_paper_test,'test_date',sort_index = True)\n",
    "\n",
    "print(len(df_paper_test))"
   ]
  },
  {
   "cell_type": "code",
   "execution_count": 18,
   "metadata": {},
   "outputs": [],
   "source": [
    "print(f' shape of train-validation date range used in paper {df_paper_train.shape}')\n",
    "print(f' shape of test date range used in paper {df_paper_test.shape}')\n",
    "\n",
    "print('records in train-validation quoted in paper: 51831')\n",
    "print('records in test quoted in paper: 47401')\n",
    "\n",
    "\n",
    "print('sizes slightly different but could be due to a lter reevisoon of the dataset')"
   ]
  },
  {
   "cell_type": "code",
   "execution_count": 19,
   "metadata": {},
   "outputs": [],
   "source": [
    "#summarise_columns\n",
    "\n",
    "df_paper_pre_train['test_indication']\n",
    "\n",
    "#summarise_columns(df_paper_pre_train)\n"
   ]
  },
  {
   "cell_type": "code",
   "execution_count": 20,
   "metadata": {},
   "outputs": [],
   "source": [
    "summarise_columns(df_paper_train)\n",
    "\n"
   ]
  },
  {
   "cell_type": "code",
   "execution_count": 21,
   "metadata": {},
   "outputs": [],
   "source": [
    "summarise_columns(df_paper_test)"
   ]
  },
  {
   "cell_type": "code",
   "execution_count": 22,
   "metadata": {},
   "outputs": [],
   "source": [
    "summarise_columns(df_paper_post_test)"
   ]
  },
  {
   "cell_type": "code",
   "execution_count": 23,
   "metadata": {},
   "outputs": [],
   "source": [
    "df['corona_result'].value_counts(normalize = True)"
   ]
  },
  {
   "cell_type": "code",
   "execution_count": 24,
   "metadata": {},
   "outputs": [],
   "source": [
    "list_test_periods = [\n",
    "df_paper_pre_train, \n",
    "df_paper_train, \n",
    "df_paper_test, \n",
    "df_paper_post_test\n",
    "]"
   ]
  },
  {
   "cell_type": "code",
   "execution_count": 25,
   "metadata": {},
   "outputs": [],
   "source": [
    "for period in list_test_periods:\n",
    "    print(f'period from: {period.test_date.min()}')\n",
    "    print(period['corona_result'].value_counts(normalize = True))\n",
    "    print('-'*20)"
   ]
  },
  {
   "cell_type": "code",
   "execution_count": 31,
   "metadata": {},
   "outputs": [],
   "source": [
    "#define a function that splits data as per the paper (default)\n",
    "#alternatively split the data between train and test at a single point\n",
    "#the end dates are the last dates that are included in the split\n",
    "#include data only from 22nd March\n",
    "\n",
    "def get_data(df,source = 'paper', train_end = '2020-03-31',test_end = '2020-04-30'):#,train_start,test_start,test_end:\n",
    "    if source == 'paper':\n",
    "        df_trainvalidation = df[df['test_date'].between('2020-03-21','2020-03-31','right')]\n",
    "        df_test = df[df['test_date'].between('2020-03-31','2020-04-07','right')]\n",
    "    else:\n",
    "        df_trainvalidation = df[df['test_date'].between('2020-03-21',train_end,'right')]\n",
    "        df_test = df[df['test_date'].between(train_end,test_end,'right')]\n",
    "    return df_trainvalidation,df_test\n",
    "\n",
    "    \n"
   ]
  },
  {
   "cell_type": "code",
   "execution_count": 32,
   "metadata": {},
   "outputs": [],
   "source": [
    "#use function to split dataset as per paper\n",
    "\n",
    "df_train,df_test = get_data(df,source = 'paper')"
   ]
  },
  {
   "cell_type": "code",
   "execution_count": 33,
   "metadata": {},
   "outputs": [],
   "source": [
    "value_counts_summary(df_train,'test_date',sort_index = True)"
   ]
  },
  {
   "cell_type": "code",
   "execution_count": 34,
   "metadata": {},
   "outputs": [],
   "source": [
    "value_counts_summary(df_test,'test_date',sort_index = True)"
   ]
  },
  {
   "cell_type": "markdown",
   "metadata": {},
   "source": [
    "\n",
    "# Exploratory Data Analysis\n"
   ]
  },
  {
   "cell_type": "code",
   "execution_count": 35,
   "metadata": {},
   "outputs": [],
   "source": []
  },
  {
   "cell_type": "code",
   "execution_count": 42,
   "metadata": {},
   "outputs": [],
   "source": [
    "#df['test_date']\n",
    "\n",
    "#df['test_date_wc'] = \n",
    "\n",
    "#df['test_date'].dt.isocalendar().day\n",
    "\n",
    "df['test_date_wc'] = df['test_date'] - pd.to_timedelta(df['test_date'].dt.isocalendar().day-1, unit='D')"
   ]
  },
  {
   "cell_type": "code",
   "execution_count": 43,
   "metadata": {
    "scrolled": true
   },
   "outputs": [],
   "source": [
    "df[['test_date','test_date_wc']]"
   ]
  },
  {
   "cell_type": "code",
   "execution_count": 44,
   "metadata": {},
   "outputs": [],
   "source": [
    "sns.histplot(data = df,x ='test_date_wc')\n",
    "\n",
    "#seaborn.histplot(data=None, *, x=None, y=None, hue=None, weights=None, stat='count', bins='auto', binwidth=None, binrange=None, discrete=None, cumulative=False, common_bins=True, common_norm=True, multiple='layer', element='bars', fill=True, shrink=1, kde=False, kde_kws=None, line_kws=None, thresh=0, pthresh=None, pmax=None, cbar=False, cbar_ax=None, cbar_kws=None, palette=None, hue_order=None, hue_norm=None, color=None, log_scale=None, legend=True, ax=None, **kwargs)"
   ]
  },
  {
   "cell_type": "code",
   "execution_count": 56,
   "metadata": {},
   "outputs": [],
   "source": [
    "list_features = df.drop(columns = ['test_date','corona_result']).columns.to_list()\n",
    "#print(list_features)"
   ]
  },
  {
   "cell_type": "code",
   "execution_count": 57,
   "metadata": {},
   "outputs": [],
   "source": [
    "#produce histogram plots \n",
    "\n",
    "sns.set_style(\"darkgrid\")\n",
    "\n",
    "\n",
    "plt.figure(figsize=(14, len(list_features) * 3))\n",
    "for idx, feature in enumerate(list_features, 1):\n",
    "    plt.subplot(len(list_features), 2, idx)\n",
    "    #sns.histplot(df[feature], kde=False,hue = df[feature])\n",
    "    sns.histplot(data = df,x = feature, kde=False,hue = 'corona_result')\n",
    "    plt.title(f\"{feature}\")\n",
    "#plt.title(f\"{feature} | Skewness: {round(df_modelling[feature].skew(), 2)}\")\n",
    "\n",
    "plt.tight_layout()\n",
    "plt.show()"
   ]
  },
  {
   "cell_type": "code",
   "execution_count": 50,
   "metadata": {},
   "outputs": [],
   "source": [
    "sns.histplot(data = df,x = 'gender', kde=False,hue = 'corona_result')"
   ]
  },
  {
   "cell_type": "code",
   "execution_count": 59,
   "metadata": {},
   "outputs": [],
   "source": [
    "df_positive = df[df['corona_result']=='positive']"
   ]
  },
  {
   "cell_type": "code",
   "execution_count": 60,
   "metadata": {},
   "outputs": [],
   "source": [
    "#look at distributions only where positive covid test results.\n",
    "\n",
    "sns.set_style(\"darkgrid\")\n",
    "\n",
    "\n",
    "plt.figure(figsize=(14, len(list_features) * 3))\n",
    "for idx, feature in enumerate(list_features, 1):\n",
    "    plt.subplot(len(list_features), 2, idx)\n",
    "    #sns.histplot(df[feature], kde=False,hue = df[feature])\n",
    "    sns.histplot(data = df_positive,x = feature, kde=False,hue = 'corona_result')\n",
    "    plt.title(f\"{feature}\")\n",
    "#plt.title(f\"{feature} | Skewness: {round(df_modelling[feature].skew(), 2)}\")\n",
    "\n",
    "plt.tight_layout()\n",
    "plt.show()"
   ]
  },
  {
   "cell_type": "code",
   "execution_count": 66,
   "metadata": {},
   "outputs": [],
   "source": [
    "#replicating figures in paper re: biased reporting\n",
    "#of those who report positive for a symptom , what proportion had covid.\n",
    "#query whehter appropriate i.e. if posutive is only confirmed on positive test, strng target leakage\n",
    "\n",
    "corona_mask = df_paper_train.corona_result == 'positive'\n",
    "\n",
    "fever_mask =  df_paper_train.fever == 1.0\n",
    "cough_mask =  df_paper_train.cough == 1.0\n",
    "head_ache_mask =  df_paper_train.head_ache == 1.0\n",
    "\n",
    "print(df_paper_train.loc[corona_mask & fever_mask].shape[0] / df_paper_train.loc[fever_mask].shape[0])\n",
    "print(df_paper_train.loc[corona_mask & cough_mask].shape[0] / df_paper_train.loc[cough_mask].shape[0])\n",
    "print(df_paper_train.loc[corona_mask & head_ache_mask].shape[0] / df_paper_train.loc[head_ache_mask].shape[0])\n",
    " "
   ]
  },
  {
   "cell_type": "code",
   "execution_count": null,
   "metadata": {},
   "outputs": [],
   "source": [
    "corona_mask = df_paper_train.corona_result == 'positive'\n",
    "\n",
    "fever_mask =  df_paper_train.fever == 1.0\n",
    "\n",
    "df_paper_train.loc[corona_mask & fever_mask].shape[0] / df_paper_train.loc[fever_mask].shape[0]"
   ]
  },
  {
   "cell_type": "code",
   "execution_count": 67,
   "metadata": {},
   "outputs": [],
   "source": [
    "# class imbalance in the target\n",
    "\n",
    "sns.histplot(data = df,x = 'corona_result', kde=False)"
   ]
  },
  {
   "cell_type": "code",
   "execution_count": 68,
   "metadata": {},
   "outputs": [],
   "source": [
    "sns.histplot(data = df_paper_train,x = 'corona_result', kde=False)"
   ]
  },
  {
   "cell_type": "code",
   "execution_count": 70,
   "metadata": {},
   "outputs": [],
   "source": [
    "#import datacompy"
   ]
  },
  {
   "cell_type": "code",
   "execution_count": 78,
   "metadata": {},
   "outputs": [],
   "source": [
    "df_summary_test = pd.DataFrame(df_paper_train['corona_result'].value_counts(normalize = True),columns = ['proportion']).reset_index()"
   ]
  },
  {
   "cell_type": "code",
   "execution_count": 79,
   "metadata": {},
   "outputs": [],
   "source": [
    "df_summary_test "
   ]
  },
  {
   "cell_type": "code",
   "execution_count": 108,
   "metadata": {},
   "outputs": [],
   "source": [
    "def compare_features(df1,df2,feature_name):\n",
    "    df1_summary = pd.DataFrame(df1[feature_name].value_counts(normalize = True,dropna=False),columns = ['proportion']).reset_index()\n",
    "    df2_summary = pd.DataFrame(df2[feature_name].value_counts(normalize = True,dropna=False),columns = ['proportion']).reset_index()\n",
    "    #df1_summary = pd.DataFrame(df1[feature_name].value_counts(normalize = False),columns = ['proportion']).reset_index()\n",
    "    #df2_summary = pd.DataFrame(df2[feature_name].value_counts(normalize = False),columns = ['proportion']).reset_index()\n",
    "    #df1_summary['proportion'] = df1_summary['proportion']/len(df1_summary)\n",
    "    #df2_summary['proportion'] = df2_summary['proportion']/len(df2_summary)\n",
    "    \n",
    "    df_compare = df1_summary.merge(df2_summary, left_on=feature_name, right_on=feature_name,how = 'outer')\n",
    "    return df_compare"
   ]
  },
  {
   "cell_type": "code",
   "execution_count": 109,
   "metadata": {},
   "outputs": [],
   "source": [
    "compare_features(df_paper_train,df_paper_test,'corona_result')"
   ]
  },
  {
   "cell_type": "code",
   "execution_count": 98,
   "metadata": {},
   "outputs": [],
   "source": [
    "print(compare_features(df_paper_train,df_paper_train,'gender'))"
   ]
  },
  {
   "cell_type": "code",
   "execution_count": 100,
   "metadata": {},
   "outputs": [],
   "source": [
    "#compare proportions in train and test datasets\n",
    "\n",
    "for column in list_columns:\n",
    "    print(column)\n",
    "    print(compare_features(df_train,df_test,column))\n",
    "    print('-'*40)"
   ]
  },
  {
   "cell_type": "code",
   "execution_count": 101,
   "metadata": {},
   "outputs": [],
   "source": [
    "for column in list_columns:\n",
    "    print(column)\n",
    "    print(compare_features(df_paper_train,df_paper_post_test,column))\n",
    "    print('-'*40)"
   ]
  }
 ],
 "metadata": {
  "kernelspec": {
   "display_name": "Python 3 (ipykernel)",
   "language": "python",
   "name": "python3"
  },
  "language_info": {
   "codemirror_mode": {
    "name": "ipython",
    "version": 3
   },
   "file_extension": ".py",
   "mimetype": "text/x-python",
   "name": "python",
   "nbconvert_exporter": "python",
   "pygments_lexer": "ipython3",
   "version": "3.11.13"
  }
 },
 "nbformat": 4,
 "nbformat_minor": 1
}
